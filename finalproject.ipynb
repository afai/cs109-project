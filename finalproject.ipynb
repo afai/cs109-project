{
 "cells": [
  {
   "cell_type": "markdown",
   "metadata": {},
   "source": [
    "# Guide Me Through the Q!"
   ]
  },
  {
   "cell_type": "markdown",
   "metadata": {},
   "source": [
    "![Q](images/q.png)"
   ]
  },
  {
   "cell_type": "markdown",
   "metadata": {},
   "source": [
    "## Abstract"
   ]
  },
  {
   "cell_type": "markdown",
   "metadata": {},
   "source": [
    "Text"
   ]
  },
  {
   "cell_type": "markdown",
   "metadata": {},
   "source": [
    "##  Table of Contents\n",
    "\n",
    "* [Part 1: Creating the Data Set](#Part-1:-Creating-the-Data-Set)\n",
    "    * [1.1 Concatenating the JSON Files](#1.1-Concatenating-the-JSON-Files)\n",
    "    * [1.2 Producing the Dataframe](#1.2-Producing-the-Dataframe)\n",
    "    * [1.3 Cleaning](#1.3-Cleaning)\n",
    "    * [1.4 Adding an Indicator for Positive Reviews](#1.4-Adding-an-Indicator-for-Positive-Reviews)\n",
    "* [Part 2: Numerical Analysis](#Part-2:-Numerical-Analysis)\n",
    "    * [2.1 Statistics and Trends](#2.1-Statistics-and-Trends)\n",
    "    * [2.2 Training and Testing](#2.2-Training-and-Testing)\n",
    "        * [2.21 Linear SVM](#2.21-Linear-SVM)\n",
    "* [Part 3: Text Analysis](#Part-3:-Text-Analysis)\n",
    "* [References](#References)"
   ]
  },
  {
   "cell_type": "code",
   "execution_count": 1,
   "metadata": {
    "collapsed": true
   },
   "outputs": [],
   "source": [
    "%matplotlib inline\n",
    "import numpy as np\n",
    "import scipy as sp\n",
    "import matplotlib as mpl\n",
    "import matplotlib.cm as cm\n",
    "import matplotlib.pyplot as plt\n",
    "import pandas as pd\n",
    "pd.set_option('display.width', 500)\n",
    "pd.set_option('display.max_columns', 100)\n",
    "pd.set_option('display.notebook_repr_html', True)\n",
    "import seaborn as sns\n",
    "sns.set_style(\"whitegrid\")\n",
    "sns.set_context(\"poster\")"
   ]
  },
  {
   "cell_type": "markdown",
   "metadata": {},
   "source": [
    "## Part 1: Creating the Data Set"
   ]
  },
  {
   "cell_type": "markdown",
   "metadata": {},
   "source": [
    "### 1.1 Concatenating the JSON Files"
   ]
  },
  {
   "cell_type": "markdown",
   "metadata": {},
   "source": [
    "The Q data we received consisted of about 2300 JSON files, each one representing a unique course's historical Q scores for each available semester. Out first task was to combine these individual JSON files into a single JSON Lines file; the JSON files were stored locally outside of the repository directory, and we used the `shututil` and `glob` libraries to concatenate these into `qall.jsonl`. Because the individual JSON files are local, we used the `os.path` library to check if the JSONL file already exists and to prevent the code from running if it does."
   ]
  },
  {
   "cell_type": "code",
   "execution_count": 2,
   "metadata": {
    "collapsed": false
   },
   "outputs": [],
   "source": [
    "import shutil\n",
    "import glob\n",
    "import os.path\n",
    "\n",
    "# Prevents code from running if the file already exists.\n",
    "if not os.path.exists(\"qall.jsonl\"):\n",
    "\n",
    "    # Opens the JSONL file as output.\n",
    "    with open(\"qall.jsonl\", \"wb\") as outfile:\n",
    "    \n",
    "        # Iterates over the JSON files.\n",
    "        for filename in glob.glob(\"../Q/*.json\"):\n",
    "        \n",
    "            # Opens the current JSON file as input.\n",
    "            with open(filename, \"rb\") as readfile:\n",
    "            \n",
    "                # Copies the JSON file to the JSONL file.\n",
    "                shutil.copyfileobj(readfile, outfile)\n",
    "            \n",
    "                # Adds a new line as a delimiter.\n",
    "                outfile.write(\"\\n\")"
   ]
  },
  {
   "cell_type": "markdown",
   "metadata": {},
   "source": [
    "### 1.2 Producing the Dataframe"
   ]
  },
  {
   "cell_type": "markdown",
   "metadata": {},
   "source": [
    "Each JSON file was structured using multiple nested dictionaries, with the following format:\n",
    "\n",
    "* `scores`: a dictionary of mostly numerical data, separated by semester\n",
    "    * `*semester*`: a dictionary of course and instructor scores\n",
    "        * `course_score`: a dictionary of course info, ratings, and rating breakdowns\n",
    "            * `overall`: a float of mean overall rating\n",
    "            * `workload`: a float of mean workload rating\n",
    "            * `difficulty`: a float of mean difficulty rating\n",
    "            * `recommendation`: a float of mean recommendation rating\n",
    "            * `enrollment`: an integer of class enrollment\n",
    "            * `reponse rate`: a float of the proportion of students who reviewed the course\n",
    "            * `QCourseOverall`: \n",
    "                * `number`: the string concatenation of department and course number, i.e. \"COMPSCI 109\"\n",
    "                * `course_id`: an integer identifier for my.harvard.edu\n",
    "                * `cat_num`: an integer indentifier for the Harvard Course Catalog\n",
    "                * `1s`: an integer count of reviews with rating 1 for this category\n",
    "                * `2s`: analagous, with 2s\n",
    "                * `3s`: analagous, with 3s\n",
    "                * `4s`: analagous, with 4s\n",
    "                * `5s`: analagous, with 5s\n",
    "            * `QDifficulty`: analagous to `QCourseOverall`, with difficulty ratings.\n",
    "            * `QWorkload`: analagous to `QCourseOverall`, with workload ratings.\n",
    "        * `instructor_scores`: a list of length 1 that contains a dictionary of instructor info and ratings\n",
    "            * `number`: identical to that within `QCourseOverall`\n",
    "            * `cat_num`: identical to that within `QCourseOverall`\n",
    "            * `course_id`: identical to that within `QCourseOverall`\n",
    "            * `year`: an int of the first of the two years represented in the given school year\n",
    "            * `term`: an int with value 1 if the course took place in the Fall, 2 if Spring\n",
    "            * `id`: a string indentifier of the professor\n",
    "            * `first`: a string of the first name of the professor\n",
    "            * `last`: a string of the last name\n",
    "            * `InstructorOverall`: a float of mean overall instructor rating\n",
    "            * `EffectiveLecturesorPresentations`: a float of mean lecture rating\n",
    "            * `AccessibleOutsideClass`: a float of mean accessibility rating\n",
    "            * `GeneratesEnthusiasm`: a float of mean enthusiasm rating\n",
    "            * `FacilitatesDiscussionEncouragesParticipation`: a float of mean facilitation rating\n",
    "            * `GivesUsefulFeedback`: a float of mean feedback rating\n",
    "            * `ReturnsAssignmentsinTimelyFashion`: a float of mean timeliness rating\n",
    "* `comments`: a dictionary of textual reviews, separated by semester into dictionaries\n",
    "    * `*semester*`: a dictionary of comments for the given semester\n",
    "        * `comments`: a list of strings that represent comments\n",
    "* `mostRecentQ`: identical to the most recent semester data in `scores`\n",
    "* `success`: indicates if the JSON was successfully retrieved\n",
    "\n",
    "Any mean rating has range `1.0-5.0`, and response rate has a range `0.0-1.0`. The entries labeled `*semester*` can occur any number of times and have as a key the semester in which it took place (i.e. `Fall '12`).\n",
    "\n",
    "We wanted our first dataframe `bigdf` to have a single row for each instance of a course (`COMPSCI 109` in `Fall '13` and `COMPSCI 109` in `Fall '14` have separate rows). This versatile dataframe could be adjusted in a number of different ways to suit the purposes of our data analysis. One caveat was a lack of course or instructor data, or both! To handle for this, we first created an empty dataframe with specified columns; then, we loaded the data for each cousrse using the `json` library, created a minimal dictionary for each semester, added further semester data to the dictionary conditional upon the data's existence, then appended that dictionary to the dataframe."
   ]
  },
  {
   "cell_type": "code",
   "execution_count": 3,
   "metadata": {
    "collapsed": false
   },
   "outputs": [],
   "source": [
    "import json\n",
    "\n",
    "# Creates the dataframe with columns specified.\n",
    "bigdf = pd.DataFrame(columns=[\"C_Department\",\"C_Number\", \"Course\", \"C_CatNum\",\"C_ID\",\"C_Semester\",\"C_Year\",\"C_Term\",\n",
    "                              \"C_Overall\",\"C_Workload\",\"C_Difficulty\",\"C_Recommendation\",\"C_Enrollment\",\"C_ResponseRate\",\n",
    "                              \"I_First\",\"I_Last\",\"I_ID\",\n",
    "                              \"I_Overall\",\"I_EffectiveLectures\",\"I_Accessible\",\"I_GeneratesEnthusiasm\",\n",
    "                              \"I_EncouragesParticipation\",\"I_UsefulFeedback\",\"I_ReturnsAssignmentsTimely\",\n",
    "                              \"QOverall_1\",\"QOverall_2\",\"QOverall_3\",\"QOverall_4\",\"QOverall_5\",\n",
    "                              \"QDifficulty_1\",\"QDifficulty_2\",\"QDifficulty_3\",\"QDifficulty_4\",\"QDifficulty_5\",\n",
    "                              \"QWorkload_1\",\"QWorkload_2\",\"QWorkload_3\",\"QWorkload_4\",\"QWorkload_5\",\n",
    "                              \"Comments\"])\n",
    "\n",
    "# Opens the JSONL file as the input.\n",
    "with open(\"qall.jsonl\") as data_file:\n",
    "\n",
    "    # Iterates over each line.\n",
    "    for line in data_file:\n",
    "\n",
    "        # Loads the JSON.\n",
    "        alldata = json.loads(line)\n",
    "\n",
    "        # Iterates over each semester for the course.\n",
    "        for semester in alldata[\"scores\"]:\n",
    "\n",
    "            # Retrieves the semester data.\n",
    "            semdata = alldata[\"scores\"][semester]\n",
    "\n",
    "            # Retrieves the scores or comments if they exist, else None.\n",
    "            cscores = semdata[\"course_score\"] if \"course_score\" in semdata else None\n",
    "            iscores = semdata[\"instructor_scores\"][0] if \"instructor_scores\" in semdata else None\n",
    "            comments = alldata[\"comments\"][semester][\"comments\"] if semester in alldata[\"comments\"] else None\n",
    "\n",
    "            # Creates a dictionary that will be appended as a row to the dataframe.\n",
    "            semdatadict = {\"C_Semester\": semester, \"Comments\": comments}\n",
    "\n",
    "            # If the course scores exist...\n",
    "            if cscores != None:\n",
    "                \n",
    "                # Retrieves the course name and separates it into department and number.\n",
    "                course = str(cscores[\"QCourseOverall\"][\"number\"]).split()\n",
    "                if course[0] == \"None\":\n",
    "                    course = [None, None]\n",
    "                    fullname = \"NODEPT-NOCOURSENUMBER\"\n",
    "                else:\n",
    "                    fullname = course[0] + \"-\" + course[1]\n",
    "                    \n",
    "                # Updates the dictionary with the data.\n",
    "                semdatadict.update({\"C_Department\": course[0],\n",
    "                                    \"C_Number\": course[1],\n",
    "                                    \"Course\": fullname,\n",
    "                                    \"C_CatNum\": cscores[\"QCourseOverall\"][\"cat_num\"],\n",
    "                                    \"C_ID\": cscores[\"QCourseOverall\"][\"course_id\"],\n",
    "                                    \"C_Overall\": cscores[\"overall\"],\n",
    "                                    \"C_Workload\": cscores[\"workload\"],\n",
    "                                    \"C_Difficulty\": cscores[\"difficulty\"],\n",
    "                                    \"C_Recommendation\": cscores[\"recommendation\"],\n",
    "                                    \"C_Enrollment\": cscores[\"enrollment\"],\n",
    "                                    \"C_ResponseRate\": cscores[\"response rate\"],\n",
    "                                    \"QOverall_1\": cscores[\"QCourseOverall\"][\"1s\"],\n",
    "                                    \"QOverall_2\": cscores[\"QCourseOverall\"][\"2s\"],\n",
    "                                    \"QOverall_3\": cscores[\"QCourseOverall\"][\"3s\"],\n",
    "                                    \"QOverall_4\": cscores[\"QCourseOverall\"][\"4s\"],\n",
    "                                    \"QOverall_5\": cscores[\"QCourseOverall\"][\"5s\"],\n",
    "                                    \"QDifficulty_1\": cscores[\"QDifficulty\"][\"1s\"],\n",
    "                                    \"QDifficulty_2\": cscores[\"QDifficulty\"][\"2s\"],\n",
    "                                    \"QDifficulty_3\": cscores[\"QDifficulty\"][\"3s\"],\n",
    "                                    \"QDifficulty_4\": cscores[\"QDifficulty\"][\"4s\"],\n",
    "                                    \"QDifficulty_5\": cscores[\"QDifficulty\"][\"5s\"],\n",
    "                                    \"QWorkload_1\": cscores[\"QWorkload\"][\"1s\"],\n",
    "                                    \"QWorkload_2\": cscores[\"QWorkload\"][\"2s\"],\n",
    "                                    \"QWorkload_3\": cscores[\"QWorkload\"][\"3s\"],\n",
    "                                    \"QWorkload_4\": cscores[\"QWorkload\"][\"4s\"],\n",
    "                                    \"QWorkload_5\": cscores[\"QWorkload\"][\"5s\"],})\n",
    "\n",
    "            # If the instructor scores exist...\n",
    "            if iscores != None:\n",
    "\n",
    "                # Retrieves the course name and separates it into department and number.\n",
    "                course = str(iscores[\"number\"]).split()\n",
    "                if course[0] == \"None\":\n",
    "                    course = [None, None]\n",
    "                    fullname = \"NODEPT-NOCOURSENUMBER\"\n",
    "                else:\n",
    "                    fullname = course[0] + \"-\" + course[1]\n",
    "\n",
    "                # Updates the dictionary with the data.\n",
    "                semdatadict.update({\"C_Department\": course[0],\n",
    "                                    \"C_Number\": course[1],\n",
    "                                    \"Course\": fullname,\n",
    "                                    \"C_CatNum\": iscores[\"cat_num\"],\n",
    "                                    \"C_ID\": iscores[\"course_id\"],\n",
    "                                    \"C_Year\": iscores[\"year\"],\n",
    "                                    \"C_Term\": iscores[\"term\"],\n",
    "                                    \"I_First\": iscores[\"first\"].strip(),\n",
    "                                    \"I_Last\": iscores[\"last\"].strip(),\n",
    "                                    \"I_ID\": iscores[\"id\"],\n",
    "                                    \"I_Overall\": iscores[\"InstructorOverall\"],\n",
    "                                    \"I_EffectiveLectures\": iscores[\"EffectiveLecturesorPresentations\"],\n",
    "                                    \"I_Accessible\": iscores[\"AccessibleOutsideClass\"],\n",
    "                                    \"I_GeneratesEnthusiasm\": iscores[\"GeneratesEnthusiasm\"],\n",
    "                                    \"I_EncouragesParticipation\": iscores[\"FacilitatesDiscussionEncouragesParticipation\"],\n",
    "                                    \"I_UsefulFeedback\": iscores[\"GivesUsefulFeedback\"],\n",
    "                                    \"I_ReturnsAssignmentsTimely\": iscores[\"ReturnsAssignmentsinTimelyFashion\"]})\n",
    "\n",
    "            # Adds the dictionary as a row to the dataframe.\n",
    "            bigdf = bigdf.append(semdatadict, ignore_index=True)"
   ]
  },
  {
   "cell_type": "markdown",
   "metadata": {},
   "source": [
    "Here is a look at the resulting dataframe:"
   ]
  },
  {
   "cell_type": "code",
   "execution_count": 4,
   "metadata": {
    "collapsed": false,
    "scrolled": false
   },
   "outputs": [
    {
     "data": {
      "text/html": [
       "<div>\n",
       "<table border=\"1\" class=\"dataframe\">\n",
       "  <thead>\n",
       "    <tr style=\"text-align: right;\">\n",
       "      <th></th>\n",
       "      <th>C_Department</th>\n",
       "      <th>C_Number</th>\n",
       "      <th>Course</th>\n",
       "      <th>C_CatNum</th>\n",
       "      <th>C_ID</th>\n",
       "      <th>C_Semester</th>\n",
       "      <th>C_Year</th>\n",
       "      <th>C_Term</th>\n",
       "      <th>C_Overall</th>\n",
       "      <th>C_Workload</th>\n",
       "      <th>C_Difficulty</th>\n",
       "      <th>C_Recommendation</th>\n",
       "      <th>C_Enrollment</th>\n",
       "      <th>C_ResponseRate</th>\n",
       "      <th>I_First</th>\n",
       "      <th>I_Last</th>\n",
       "      <th>I_ID</th>\n",
       "      <th>I_Overall</th>\n",
       "      <th>I_EffectiveLectures</th>\n",
       "      <th>I_Accessible</th>\n",
       "      <th>I_GeneratesEnthusiasm</th>\n",
       "      <th>I_EncouragesParticipation</th>\n",
       "      <th>I_UsefulFeedback</th>\n",
       "      <th>I_ReturnsAssignmentsTimely</th>\n",
       "      <th>QOverall_1</th>\n",
       "      <th>QOverall_2</th>\n",
       "      <th>QOverall_3</th>\n",
       "      <th>QOverall_4</th>\n",
       "      <th>QOverall_5</th>\n",
       "      <th>QDifficulty_1</th>\n",
       "      <th>QDifficulty_2</th>\n",
       "      <th>QDifficulty_3</th>\n",
       "      <th>QDifficulty_4</th>\n",
       "      <th>QDifficulty_5</th>\n",
       "      <th>QWorkload_1</th>\n",
       "      <th>QWorkload_2</th>\n",
       "      <th>QWorkload_3</th>\n",
       "      <th>QWorkload_4</th>\n",
       "      <th>QWorkload_5</th>\n",
       "      <th>Comments</th>\n",
       "    </tr>\n",
       "  </thead>\n",
       "  <tbody>\n",
       "    <tr>\n",
       "      <th>0</th>\n",
       "      <td>HISTSCI</td>\n",
       "      <td>270</td>\n",
       "      <td>HISTSCI-270</td>\n",
       "      <td>58523</td>\n",
       "      <td>2697</td>\n",
       "      <td>Spring '12</td>\n",
       "      <td>2011</td>\n",
       "      <td>2</td>\n",
       "      <td>4.67</td>\n",
       "      <td>2.33</td>\n",
       "      <td>3.33</td>\n",
       "      <td>5.00</td>\n",
       "      <td>6</td>\n",
       "      <td>50.00</td>\n",
       "      <td>Rebecca</td>\n",
       "      <td>Lemov</td>\n",
       "      <td>79de794d3e2e19eb71a2033b0ec0b76d</td>\n",
       "      <td>4.67</td>\n",
       "      <td>4.33</td>\n",
       "      <td>4.00</td>\n",
       "      <td>4.33</td>\n",
       "      <td>5.00</td>\n",
       "      <td>4.50</td>\n",
       "      <td>4.00</td>\n",
       "      <td>0</td>\n",
       "      <td>0</td>\n",
       "      <td>0</td>\n",
       "      <td>1</td>\n",
       "      <td>2</td>\n",
       "      <td>0</td>\n",
       "      <td>0</td>\n",
       "      <td>2</td>\n",
       "      <td>1</td>\n",
       "      <td>0</td>\n",
       "      <td>0</td>\n",
       "      <td>2</td>\n",
       "      <td>1</td>\n",
       "      <td>0</td>\n",
       "      <td>0</td>\n",
       "      <td>[This course is a perfect example of what grea...</td>\n",
       "    </tr>\n",
       "    <tr>\n",
       "      <th>1</th>\n",
       "      <td>EXPOS</td>\n",
       "      <td>20.132</td>\n",
       "      <td>EXPOS-20.132</td>\n",
       "      <td>22108</td>\n",
       "      <td>1676</td>\n",
       "      <td>Fall '14</td>\n",
       "      <td>2014</td>\n",
       "      <td>1</td>\n",
       "      <td>4.10</td>\n",
       "      <td>7.10</td>\n",
       "      <td>None</td>\n",
       "      <td>3.50</td>\n",
       "      <td>13</td>\n",
       "      <td>76.92</td>\n",
       "      <td>Owen</td>\n",
       "      <td>Chen</td>\n",
       "      <td>1341ccb7bd27f47e68625b63b15281d1</td>\n",
       "      <td>4.50</td>\n",
       "      <td>4.60</td>\n",
       "      <td>3.70</td>\n",
       "      <td>3.90</td>\n",
       "      <td>3.90</td>\n",
       "      <td>4.10</td>\n",
       "      <td>4.60</td>\n",
       "      <td>0</td>\n",
       "      <td>1</td>\n",
       "      <td>1</td>\n",
       "      <td>4</td>\n",
       "      <td>4</td>\n",
       "      <td>0</td>\n",
       "      <td>1</td>\n",
       "      <td>2</td>\n",
       "      <td>7</td>\n",
       "      <td>3</td>\n",
       "      <td>1</td>\n",
       "      <td>3</td>\n",
       "      <td>4</td>\n",
       "      <td>1</td>\n",
       "      <td>0</td>\n",
       "      <td>[The class has a fairly high work load, but Dr...</td>\n",
       "    </tr>\n",
       "    <tr>\n",
       "      <th>2</th>\n",
       "      <td>EXPOS</td>\n",
       "      <td>20.132</td>\n",
       "      <td>EXPOS-20.132</td>\n",
       "      <td>22108</td>\n",
       "      <td>1676</td>\n",
       "      <td>Fall '13</td>\n",
       "      <td>2013</td>\n",
       "      <td>1</td>\n",
       "      <td>3.50</td>\n",
       "      <td>2.60</td>\n",
       "      <td>3.90</td>\n",
       "      <td>3.20</td>\n",
       "      <td>13</td>\n",
       "      <td>100.00</td>\n",
       "      <td>Owen</td>\n",
       "      <td>Chen</td>\n",
       "      <td>1341ccb7bd27f47e68625b63b15281d1</td>\n",
       "      <td>3.80</td>\n",
       "      <td>4.00</td>\n",
       "      <td>2.50</td>\n",
       "      <td>3.50</td>\n",
       "      <td>4.10</td>\n",
       "      <td>4.30</td>\n",
       "      <td>4.40</td>\n",
       "      <td>0</td>\n",
       "      <td>1</td>\n",
       "      <td>1</td>\n",
       "      <td>4</td>\n",
       "      <td>4</td>\n",
       "      <td>0</td>\n",
       "      <td>1</td>\n",
       "      <td>2</td>\n",
       "      <td>7</td>\n",
       "      <td>3</td>\n",
       "      <td>1</td>\n",
       "      <td>3</td>\n",
       "      <td>4</td>\n",
       "      <td>1</td>\n",
       "      <td>0</td>\n",
       "      <td>[Philosophy of the State with Dr. Chen offers ...</td>\n",
       "    </tr>\n",
       "    <tr>\n",
       "      <th>3</th>\n",
       "      <td>EXPOS</td>\n",
       "      <td>20.132</td>\n",
       "      <td>EXPOS-20.132</td>\n",
       "      <td>22108</td>\n",
       "      <td>1676</td>\n",
       "      <td>Fall '12</td>\n",
       "      <td>2012</td>\n",
       "      <td>1</td>\n",
       "      <td>3.73</td>\n",
       "      <td>2.47</td>\n",
       "      <td>3.67</td>\n",
       "      <td>3.47</td>\n",
       "      <td>15</td>\n",
       "      <td>100.00</td>\n",
       "      <td>Owen</td>\n",
       "      <td>Chen</td>\n",
       "      <td>1341ccb7bd27f47e68625b63b15281d1</td>\n",
       "      <td>3.87</td>\n",
       "      <td>4.33</td>\n",
       "      <td>2.64</td>\n",
       "      <td>3.93</td>\n",
       "      <td>4.18</td>\n",
       "      <td>3.64</td>\n",
       "      <td>3.82</td>\n",
       "      <td>0</td>\n",
       "      <td>1</td>\n",
       "      <td>1</td>\n",
       "      <td>4</td>\n",
       "      <td>4</td>\n",
       "      <td>0</td>\n",
       "      <td>1</td>\n",
       "      <td>2</td>\n",
       "      <td>7</td>\n",
       "      <td>3</td>\n",
       "      <td>1</td>\n",
       "      <td>3</td>\n",
       "      <td>4</td>\n",
       "      <td>1</td>\n",
       "      <td>0</td>\n",
       "      <td>[This was by far my favorite course. Dr. Chen ...</td>\n",
       "    </tr>\n",
       "    <tr>\n",
       "      <th>4</th>\n",
       "      <td>EXPOS</td>\n",
       "      <td>20.132</td>\n",
       "      <td>EXPOS-20.132</td>\n",
       "      <td>22108</td>\n",
       "      <td>1676</td>\n",
       "      <td>Fall '11</td>\n",
       "      <td>2011</td>\n",
       "      <td>1</td>\n",
       "      <td>3.85</td>\n",
       "      <td>2.00</td>\n",
       "      <td>3.54</td>\n",
       "      <td>3.62</td>\n",
       "      <td>13</td>\n",
       "      <td>100.00</td>\n",
       "      <td>Owen</td>\n",
       "      <td>Chen</td>\n",
       "      <td>1341ccb7bd27f47e68625b63b15281d1</td>\n",
       "      <td>4.08</td>\n",
       "      <td>3.75</td>\n",
       "      <td>3.31</td>\n",
       "      <td>3.92</td>\n",
       "      <td>4.46</td>\n",
       "      <td>4.23</td>\n",
       "      <td>4.08</td>\n",
       "      <td>0</td>\n",
       "      <td>1</td>\n",
       "      <td>1</td>\n",
       "      <td>4</td>\n",
       "      <td>4</td>\n",
       "      <td>0</td>\n",
       "      <td>1</td>\n",
       "      <td>2</td>\n",
       "      <td>7</td>\n",
       "      <td>3</td>\n",
       "      <td>1</td>\n",
       "      <td>3</td>\n",
       "      <td>4</td>\n",
       "      <td>1</td>\n",
       "      <td>0</td>\n",
       "      <td>[Be prepared to read, Discussions were great, ...</td>\n",
       "    </tr>\n",
       "  </tbody>\n",
       "</table>\n",
       "</div>"
      ],
      "text/plain": [
       "  C_Department C_Number        Course C_CatNum  C_ID  C_Semester C_Year C_Term C_Overall C_Workload C_Difficulty C_Recommendation C_Enrollment C_ResponseRate  I_First I_Last                              I_ID I_Overall I_EffectiveLectures I_Accessible I_GeneratesEnthusiasm I_EncouragesParticipation I_UsefulFeedback I_ReturnsAssignmentsTimely QOverall_1 QOverall_2 QOverall_3 QOverall_4 QOverall_5 QDifficulty_1 QDifficulty_2 QDifficulty_3 QDifficulty_4 QDifficulty_5 QWorkload_1 QWorkload_2  \\\n",
       "0      HISTSCI      270   HISTSCI-270    58523  2697  Spring '12   2011      2      4.67       2.33         3.33             5.00            6          50.00  Rebecca  Lemov  79de794d3e2e19eb71a2033b0ec0b76d      4.67                4.33         4.00                  4.33                      5.00             4.50                       4.00          0          0          0          1          2             0             0             2             1             0           0           2   \n",
       "1        EXPOS   20.132  EXPOS-20.132    22108  1676    Fall '14   2014      1      4.10       7.10         None             3.50           13          76.92     Owen   Chen  1341ccb7bd27f47e68625b63b15281d1      4.50                4.60         3.70                  3.90                      3.90             4.10                       4.60          0          1          1          4          4             0             1             2             7             3           1           3   \n",
       "2        EXPOS   20.132  EXPOS-20.132    22108  1676    Fall '13   2013      1      3.50       2.60         3.90             3.20           13         100.00     Owen   Chen  1341ccb7bd27f47e68625b63b15281d1      3.80                4.00         2.50                  3.50                      4.10             4.30                       4.40          0          1          1          4          4             0             1             2             7             3           1           3   \n",
       "3        EXPOS   20.132  EXPOS-20.132    22108  1676    Fall '12   2012      1      3.73       2.47         3.67             3.47           15         100.00     Owen   Chen  1341ccb7bd27f47e68625b63b15281d1      3.87                4.33         2.64                  3.93                      4.18             3.64                       3.82          0          1          1          4          4             0             1             2             7             3           1           3   \n",
       "4        EXPOS   20.132  EXPOS-20.132    22108  1676    Fall '11   2011      1      3.85       2.00         3.54             3.62           13         100.00     Owen   Chen  1341ccb7bd27f47e68625b63b15281d1      4.08                3.75         3.31                  3.92                      4.46             4.23                       4.08          0          1          1          4          4             0             1             2             7             3           1           3   \n",
       "\n",
       "  QWorkload_3 QWorkload_4 QWorkload_5                                           Comments  \n",
       "0           1           0           0  [This course is a perfect example of what grea...  \n",
       "1           4           1           0  [The class has a fairly high work load, but Dr...  \n",
       "2           4           1           0  [Philosophy of the State with Dr. Chen offers ...  \n",
       "3           4           1           0  [This was by far my favorite course. Dr. Chen ...  \n",
       "4           4           1           0  [Be prepared to read, Discussions were great, ...  "
      ]
     },
     "execution_count": 4,
     "metadata": {},
     "output_type": "execute_result"
    }
   ],
   "source": [
    "bigdf.head(5)"
   ]
  },
  {
   "cell_type": "markdown",
   "metadata": {},
   "source": [
    "### 1.3 Cleaning"
   ]
  },
  {
   "cell_type": "markdown",
   "metadata": {},
   "source": [
    "If the instructor data was missing for a course, `C_Year` and `C_Term` were left out. We iterated over each row to extract this information from `C_semester`:"
   ]
  },
  {
   "cell_type": "code",
   "execution_count": 5,
   "metadata": {
    "collapsed": false
   },
   "outputs": [],
   "source": [
    "# Iterates over each row in the dataframe\n",
    "for index, row in bigdf.iterrows():\n",
    "\n",
    "    # Retrieves the year.\n",
    "    year = int(row[\"C_Semester\"][-2:])\n",
    "\n",
    "    # Based on semester, determines year and term.\n",
    "    if row[\"C_Semester\"][0:4] == \"Fall\":\n",
    "        row[\"C_Term\"] = 1\n",
    "        row[\"C_Year\"] = 2000 + year\n",
    "    elif row[\"C_Semester\"][0:6] == \"Spring\":\n",
    "        row[\"C_Term\"] = 2\n",
    "        row[\"C_Year\"] = 1999 + year\n",
    "    else:\n",
    "        continue"
   ]
  },
  {
   "cell_type": "markdown",
   "metadata": {},
   "source": [
    "We decided to delete course that has no department or number. Although there is textual data in the comments, the missing number is a result of having no course and instructor scores, so there is little we can do with it numerically:"
   ]
  },
  {
   "cell_type": "code",
   "execution_count": 7,
   "metadata": {
    "collapsed": false,
    "scrolled": true
   },
   "outputs": [],
   "source": [
    "bigdf = bigdf[bigdf[\"C_Department\"]==bigdf[\"C_Department\"]]\n",
    "bigdf = bigdf[bigdf[\"C_Department\"]!=None]"
   ]
  },
  {
   "cell_type": "markdown",
   "metadata": {},
   "source": [
    "Then, we adjusted the types of each column to prepare for data analysis. We created a dictionary `coltypes` with keys as types and values as a list of the columns that should be those types. All columns except `Comments` were categorized as either an `int`, a `float`, or a `string`:"
   ]
  },
  {
   "cell_type": "code",
   "execution_count": 8,
   "metadata": {
    "collapsed": true
   },
   "outputs": [],
   "source": [
    "coltypes = {int: [\"C_CatNum\",\"C_ID\",\"C_Year\",\"C_Term\",\"C_Enrollment\",\n",
    "                  \"QOverall_1\",\"QOverall_2\",\"QOverall_3\",\"QOverall_4\",\"QOverall_5\",\n",
    "                  \"QDifficulty_1\",\"QDifficulty_2\",\"QDifficulty_3\",\"QDifficulty_4\",\"QDifficulty_5\",\n",
    "                  \"QWorkload_1\",\"QWorkload_2\",\"QWorkload_3\",\"QWorkload_4\",\"QWorkload_5\"],\n",
    "            float: [\"C_Overall\",\"C_Workload\",\"C_Difficulty\",\"C_Recommendation\",\"C_ResponseRate\",\n",
    "                    \"I_Overall\",\"I_EffectiveLectures\",\"I_Accessible\",\"I_GeneratesEnthusiasm\",\n",
    "                    \"I_EncouragesParticipation\",\"I_UsefulFeedback\",\"I_ReturnsAssignmentsTimely\",\n",
    "                    \"QOverall_1\",\"QOverall_2\",\"QOverall_3\",\"QOverall_4\",\"QOverall_5\"],\n",
    "            str: [\"C_Number\",\"C_Department\",\"C_Semester\",\"I_First\",\"I_Last\",\"I_ID\"]}"
   ]
  },
  {
   "cell_type": "markdown",
   "metadata": {},
   "source": [
    "Some of the `string` cells contained unicode that could not be written to a csv. Using the `unidecode` library, we converted these to writable strings:"
   ]
  },
  {
   "cell_type": "code",
   "execution_count": 9,
   "metadata": {
    "collapsed": false
   },
   "outputs": [],
   "source": [
    "from unidecode import unidecode\n",
    "\n",
    "for index, row in bigdf.iterrows():\n",
    "    for strcol in coltypes[str]:\n",
    "        try:\n",
    "            str(row[strcol])\n",
    "        except UnicodeEncodeError:\n",
    "            bigdf.loc[index, row[row.values==row[strcol]].index[0]] = unidecode(row[strcol])"
   ]
  },
  {
   "cell_type": "markdown",
   "metadata": {},
   "source": [
    "Then, we replaced `None` values with `NaN` for floats and `-1` for ints."
   ]
  },
  {
   "cell_type": "code",
   "execution_count": 10,
   "metadata": {
    "collapsed": true
   },
   "outputs": [],
   "source": [
    "for intcol in coltypes[int]:\n",
    "    bigdf = bigdf.replace({intcol: {None: -1, \"\": -1}})\n",
    "\n",
    "for floatcol in coltypes[float]:\n",
    "    bigdf = bigdf.replace({floatcol: {None: np.nan}})"
   ]
  },
  {
   "cell_type": "markdown",
   "metadata": {},
   "source": [
    "To finish correcting the types, we cast the entire columns as the desired type using the keys in `coltypes`:"
   ]
  },
  {
   "cell_type": "code",
   "execution_count": 11,
   "metadata": {
    "collapsed": false,
    "scrolled": false
   },
   "outputs": [],
   "source": [
    "for ctp in coltypes:\n",
    "    for col in coltypes[ctp]:\n",
    "        bigdf[col] = bigdf[col].astype(ctp)"
   ]
  },
  {
   "cell_type": "code",
   "execution_count": null,
   "metadata": {
    "collapsed": false,
    "scrolled": true
   },
   "outputs": [],
   "source": [
    "# for index, comments in bigdf[\"Comments\"].iteritems():\n",
    "#     if comments != None:\n",
    "#         bigdf[\"Comments\"].loc[index] = [unidecode(c) for c in comments]"
   ]
  },
  {
   "cell_type": "markdown",
   "metadata": {},
   "source": [
    "### 1.4 Adding an Indicator for Positive Reviews"
   ]
  },
  {
   "cell_type": "markdown",
   "metadata": {},
   "source": [
    "In order to provide some useful insight on what makes a good class, we had to determine how to classify courses as positive or negative. Ultimately, we decided that the threshold should be the median of overall q scores in the given semester, so that half of the courses would be good and half would be bad. We grouped by semester in order to reduce the effect of semester-specific events that could possibly shift that semester's scores."
   ]
  },
  {
   "cell_type": "code",
   "execution_count": 12,
   "metadata": {
    "collapsed": false
   },
   "outputs": [],
   "source": [
    "# Adds an empty series for the semester median to the dataframe.\n",
    "bigdf[\"Sem_Median\"] = pd.Series(index=bigdf.index)\n",
    "\n",
    "# Iterates over each semester, adding the semester median to the series.\n",
    "for name, group in bigdf.groupby([\"C_Year\", \"C_Term\"]):\n",
    "    bigdf.loc[(bigdf[\"C_Year\"]==name[0])&(bigdf[\"C_Term\"]==name[1]), \"Sem_Median\"] = np.nanmedian(group[\"C_Overall\"].values)\n",
    "\n",
    "# Determines whether or not a review is positive by comparing the Q score to the semester median.\n",
    "bigdf[\"Positive\"] = pd.Series(bigdf[\"C_Overall\"]>=bigdf[\"Sem_Median\"], index=bigdf.index)"
   ]
  },
  {
   "cell_type": "markdown",
   "metadata": {},
   "source": [
    "Here is a look at the final data set:"
   ]
  },
  {
   "cell_type": "code",
   "execution_count": 15,
   "metadata": {
    "collapsed": false,
    "scrolled": false
   },
   "outputs": [
    {
     "data": {
      "text/html": [
       "<div>\n",
       "<table border=\"1\" class=\"dataframe\">\n",
       "  <thead>\n",
       "    <tr style=\"text-align: right;\">\n",
       "      <th></th>\n",
       "      <th>C_Department</th>\n",
       "      <th>C_Number</th>\n",
       "      <th>Course</th>\n",
       "      <th>C_CatNum</th>\n",
       "      <th>C_ID</th>\n",
       "      <th>C_Semester</th>\n",
       "      <th>C_Year</th>\n",
       "      <th>C_Term</th>\n",
       "      <th>C_Overall</th>\n",
       "      <th>C_Workload</th>\n",
       "      <th>C_Difficulty</th>\n",
       "      <th>C_Recommendation</th>\n",
       "      <th>C_Enrollment</th>\n",
       "      <th>C_ResponseRate</th>\n",
       "      <th>I_First</th>\n",
       "      <th>I_Last</th>\n",
       "      <th>I_ID</th>\n",
       "      <th>I_Overall</th>\n",
       "      <th>I_EffectiveLectures</th>\n",
       "      <th>I_Accessible</th>\n",
       "      <th>I_GeneratesEnthusiasm</th>\n",
       "      <th>I_EncouragesParticipation</th>\n",
       "      <th>I_UsefulFeedback</th>\n",
       "      <th>I_ReturnsAssignmentsTimely</th>\n",
       "      <th>QOverall_1</th>\n",
       "      <th>QOverall_2</th>\n",
       "      <th>QOverall_3</th>\n",
       "      <th>QOverall_4</th>\n",
       "      <th>QOverall_5</th>\n",
       "      <th>QDifficulty_1</th>\n",
       "      <th>QDifficulty_2</th>\n",
       "      <th>QDifficulty_3</th>\n",
       "      <th>QDifficulty_4</th>\n",
       "      <th>QDifficulty_5</th>\n",
       "      <th>QWorkload_1</th>\n",
       "      <th>QWorkload_2</th>\n",
       "      <th>QWorkload_3</th>\n",
       "      <th>QWorkload_4</th>\n",
       "      <th>QWorkload_5</th>\n",
       "      <th>Comments</th>\n",
       "      <th>Sem_Median</th>\n",
       "      <th>Positive</th>\n",
       "    </tr>\n",
       "  </thead>\n",
       "  <tbody>\n",
       "    <tr>\n",
       "      <th>0</th>\n",
       "      <td>HISTSCI</td>\n",
       "      <td>270</td>\n",
       "      <td>HISTSCI-270</td>\n",
       "      <td>58523</td>\n",
       "      <td>2697</td>\n",
       "      <td>Spring '12</td>\n",
       "      <td>2011</td>\n",
       "      <td>2</td>\n",
       "      <td>4.67</td>\n",
       "      <td>2.33</td>\n",
       "      <td>3.33</td>\n",
       "      <td>5.00</td>\n",
       "      <td>6</td>\n",
       "      <td>50.00</td>\n",
       "      <td>Rebecca</td>\n",
       "      <td>Lemov</td>\n",
       "      <td>79de794d3e2e19eb71a2033b0ec0b76d</td>\n",
       "      <td>4.67</td>\n",
       "      <td>4.33</td>\n",
       "      <td>4.00</td>\n",
       "      <td>4.33</td>\n",
       "      <td>5.00</td>\n",
       "      <td>4.50</td>\n",
       "      <td>4.00</td>\n",
       "      <td>0</td>\n",
       "      <td>0</td>\n",
       "      <td>0</td>\n",
       "      <td>1</td>\n",
       "      <td>2</td>\n",
       "      <td>0</td>\n",
       "      <td>0</td>\n",
       "      <td>2</td>\n",
       "      <td>1</td>\n",
       "      <td>0</td>\n",
       "      <td>0</td>\n",
       "      <td>2</td>\n",
       "      <td>1</td>\n",
       "      <td>0</td>\n",
       "      <td>0</td>\n",
       "      <td>[This course is a perfect example of what grea...</td>\n",
       "      <td>4.30</td>\n",
       "      <td>True</td>\n",
       "    </tr>\n",
       "    <tr>\n",
       "      <th>1</th>\n",
       "      <td>EXPOS</td>\n",
       "      <td>20.132</td>\n",
       "      <td>EXPOS-20.132</td>\n",
       "      <td>22108</td>\n",
       "      <td>1676</td>\n",
       "      <td>Fall '14</td>\n",
       "      <td>2014</td>\n",
       "      <td>1</td>\n",
       "      <td>4.10</td>\n",
       "      <td>7.10</td>\n",
       "      <td>NaN</td>\n",
       "      <td>3.50</td>\n",
       "      <td>13</td>\n",
       "      <td>76.92</td>\n",
       "      <td>Owen</td>\n",
       "      <td>Chen</td>\n",
       "      <td>1341ccb7bd27f47e68625b63b15281d1</td>\n",
       "      <td>4.50</td>\n",
       "      <td>4.60</td>\n",
       "      <td>3.70</td>\n",
       "      <td>3.90</td>\n",
       "      <td>3.90</td>\n",
       "      <td>4.10</td>\n",
       "      <td>4.60</td>\n",
       "      <td>0</td>\n",
       "      <td>1</td>\n",
       "      <td>1</td>\n",
       "      <td>4</td>\n",
       "      <td>4</td>\n",
       "      <td>0</td>\n",
       "      <td>1</td>\n",
       "      <td>2</td>\n",
       "      <td>7</td>\n",
       "      <td>3</td>\n",
       "      <td>1</td>\n",
       "      <td>3</td>\n",
       "      <td>4</td>\n",
       "      <td>1</td>\n",
       "      <td>0</td>\n",
       "      <td>[The class has a fairly high work load, but Dr...</td>\n",
       "      <td>4.30</td>\n",
       "      <td>False</td>\n",
       "    </tr>\n",
       "    <tr>\n",
       "      <th>2</th>\n",
       "      <td>EXPOS</td>\n",
       "      <td>20.132</td>\n",
       "      <td>EXPOS-20.132</td>\n",
       "      <td>22108</td>\n",
       "      <td>1676</td>\n",
       "      <td>Fall '13</td>\n",
       "      <td>2013</td>\n",
       "      <td>1</td>\n",
       "      <td>3.50</td>\n",
       "      <td>2.60</td>\n",
       "      <td>3.90</td>\n",
       "      <td>3.20</td>\n",
       "      <td>13</td>\n",
       "      <td>100.00</td>\n",
       "      <td>Owen</td>\n",
       "      <td>Chen</td>\n",
       "      <td>1341ccb7bd27f47e68625b63b15281d1</td>\n",
       "      <td>3.80</td>\n",
       "      <td>4.00</td>\n",
       "      <td>2.50</td>\n",
       "      <td>3.50</td>\n",
       "      <td>4.10</td>\n",
       "      <td>4.30</td>\n",
       "      <td>4.40</td>\n",
       "      <td>0</td>\n",
       "      <td>1</td>\n",
       "      <td>1</td>\n",
       "      <td>4</td>\n",
       "      <td>4</td>\n",
       "      <td>0</td>\n",
       "      <td>1</td>\n",
       "      <td>2</td>\n",
       "      <td>7</td>\n",
       "      <td>3</td>\n",
       "      <td>1</td>\n",
       "      <td>3</td>\n",
       "      <td>4</td>\n",
       "      <td>1</td>\n",
       "      <td>0</td>\n",
       "      <td>[Philosophy of the State with Dr. Chen offers ...</td>\n",
       "      <td>4.30</td>\n",
       "      <td>False</td>\n",
       "    </tr>\n",
       "    <tr>\n",
       "      <th>3</th>\n",
       "      <td>EXPOS</td>\n",
       "      <td>20.132</td>\n",
       "      <td>EXPOS-20.132</td>\n",
       "      <td>22108</td>\n",
       "      <td>1676</td>\n",
       "      <td>Fall '12</td>\n",
       "      <td>2012</td>\n",
       "      <td>1</td>\n",
       "      <td>3.73</td>\n",
       "      <td>2.47</td>\n",
       "      <td>3.67</td>\n",
       "      <td>3.47</td>\n",
       "      <td>15</td>\n",
       "      <td>100.00</td>\n",
       "      <td>Owen</td>\n",
       "      <td>Chen</td>\n",
       "      <td>1341ccb7bd27f47e68625b63b15281d1</td>\n",
       "      <td>3.87</td>\n",
       "      <td>4.33</td>\n",
       "      <td>2.64</td>\n",
       "      <td>3.93</td>\n",
       "      <td>4.18</td>\n",
       "      <td>3.64</td>\n",
       "      <td>3.82</td>\n",
       "      <td>0</td>\n",
       "      <td>1</td>\n",
       "      <td>1</td>\n",
       "      <td>4</td>\n",
       "      <td>4</td>\n",
       "      <td>0</td>\n",
       "      <td>1</td>\n",
       "      <td>2</td>\n",
       "      <td>7</td>\n",
       "      <td>3</td>\n",
       "      <td>1</td>\n",
       "      <td>3</td>\n",
       "      <td>4</td>\n",
       "      <td>1</td>\n",
       "      <td>0</td>\n",
       "      <td>[This was by far my favorite course. Dr. Chen ...</td>\n",
       "      <td>4.25</td>\n",
       "      <td>False</td>\n",
       "    </tr>\n",
       "    <tr>\n",
       "      <th>4</th>\n",
       "      <td>EXPOS</td>\n",
       "      <td>20.132</td>\n",
       "      <td>EXPOS-20.132</td>\n",
       "      <td>22108</td>\n",
       "      <td>1676</td>\n",
       "      <td>Fall '11</td>\n",
       "      <td>2011</td>\n",
       "      <td>1</td>\n",
       "      <td>3.85</td>\n",
       "      <td>2.00</td>\n",
       "      <td>3.54</td>\n",
       "      <td>3.62</td>\n",
       "      <td>13</td>\n",
       "      <td>100.00</td>\n",
       "      <td>Owen</td>\n",
       "      <td>Chen</td>\n",
       "      <td>1341ccb7bd27f47e68625b63b15281d1</td>\n",
       "      <td>4.08</td>\n",
       "      <td>3.75</td>\n",
       "      <td>3.31</td>\n",
       "      <td>3.92</td>\n",
       "      <td>4.46</td>\n",
       "      <td>4.23</td>\n",
       "      <td>4.08</td>\n",
       "      <td>0</td>\n",
       "      <td>1</td>\n",
       "      <td>1</td>\n",
       "      <td>4</td>\n",
       "      <td>4</td>\n",
       "      <td>0</td>\n",
       "      <td>1</td>\n",
       "      <td>2</td>\n",
       "      <td>7</td>\n",
       "      <td>3</td>\n",
       "      <td>1</td>\n",
       "      <td>3</td>\n",
       "      <td>4</td>\n",
       "      <td>1</td>\n",
       "      <td>0</td>\n",
       "      <td>[Be prepared to read, Discussions were great, ...</td>\n",
       "      <td>4.20</td>\n",
       "      <td>False</td>\n",
       "    </tr>\n",
       "  </tbody>\n",
       "</table>\n",
       "</div>"
      ],
      "text/plain": [
       "  C_Department C_Number        Course  C_CatNum  C_ID  C_Semester  C_Year  C_Term  C_Overall  C_Workload  C_Difficulty  C_Recommendation  C_Enrollment  C_ResponseRate  I_First I_Last                              I_ID  I_Overall  I_EffectiveLectures  I_Accessible  I_GeneratesEnthusiasm  I_EncouragesParticipation  I_UsefulFeedback  I_ReturnsAssignmentsTimely  QOverall_1  QOverall_2  QOverall_3  QOverall_4  QOverall_5  QDifficulty_1  QDifficulty_2  QDifficulty_3  QDifficulty_4  QDifficulty_5  \\\n",
       "0      HISTSCI      270   HISTSCI-270     58523  2697  Spring '12    2011       2       4.67        2.33          3.33              5.00             6           50.00  Rebecca  Lemov  79de794d3e2e19eb71a2033b0ec0b76d       4.67                 4.33          4.00                   4.33                       5.00              4.50                        4.00           0           0           0           1           2              0              0              2              1              0   \n",
       "1        EXPOS   20.132  EXPOS-20.132     22108  1676    Fall '14    2014       1       4.10        7.10           NaN              3.50            13           76.92     Owen   Chen  1341ccb7bd27f47e68625b63b15281d1       4.50                 4.60          3.70                   3.90                       3.90              4.10                        4.60           0           1           1           4           4              0              1              2              7              3   \n",
       "2        EXPOS   20.132  EXPOS-20.132     22108  1676    Fall '13    2013       1       3.50        2.60          3.90              3.20            13          100.00     Owen   Chen  1341ccb7bd27f47e68625b63b15281d1       3.80                 4.00          2.50                   3.50                       4.10              4.30                        4.40           0           1           1           4           4              0              1              2              7              3   \n",
       "3        EXPOS   20.132  EXPOS-20.132     22108  1676    Fall '12    2012       1       3.73        2.47          3.67              3.47            15          100.00     Owen   Chen  1341ccb7bd27f47e68625b63b15281d1       3.87                 4.33          2.64                   3.93                       4.18              3.64                        3.82           0           1           1           4           4              0              1              2              7              3   \n",
       "4        EXPOS   20.132  EXPOS-20.132     22108  1676    Fall '11    2011       1       3.85        2.00          3.54              3.62            13          100.00     Owen   Chen  1341ccb7bd27f47e68625b63b15281d1       4.08                 3.75          3.31                   3.92                       4.46              4.23                        4.08           0           1           1           4           4              0              1              2              7              3   \n",
       "\n",
       "   QWorkload_1  QWorkload_2  QWorkload_3  QWorkload_4  QWorkload_5                                           Comments  Sem_Median Positive  \n",
       "0            0            2            1            0            0  [This course is a perfect example of what grea...        4.30     True  \n",
       "1            1            3            4            1            0  [The class has a fairly high work load, but Dr...        4.30    False  \n",
       "2            1            3            4            1            0  [Philosophy of the State with Dr. Chen offers ...        4.30    False  \n",
       "3            1            3            4            1            0  [This was by far my favorite course. Dr. Chen ...        4.25    False  \n",
       "4            1            3            4            1            0  [Be prepared to read, Discussions were great, ...        4.20    False  "
      ]
     },
     "execution_count": 15,
     "metadata": {},
     "output_type": "execute_result"
    }
   ],
   "source": [
    "bigdf.head(5)"
   ]
  },
  {
   "cell_type": "markdown",
   "metadata": {},
   "source": [
    "Now, we write this to a csv file for safekeeping."
   ]
  },
  {
   "cell_type": "code",
   "execution_count": 20,
   "metadata": {
    "collapsed": false
   },
   "outputs": [],
   "source": [
    "bigdf.to_csv(\"bigdf.csv\", index=False)"
   ]
  },
  {
   "cell_type": "markdown",
   "metadata": {},
   "source": [
    "## Part 2: Numerical Analysis"
   ]
  },
  {
   "cell_type": "markdown",
   "metadata": {},
   "source": [
    "### 2.1 Statistics and Trends"
   ]
  },
  {
   "cell_type": "markdown",
   "metadata": {},
   "source": [
    "First, we plotted the distribution of overall course scores by semester as a part of our exploratory analysis. We can observe that there is a high density around the `4-5` range, with a mean of `4.18` and a median of `4.25`, indicating that the histogram is skewed left."
   ]
  },
  {
   "cell_type": "code",
   "execution_count": 204,
   "metadata": {
    "collapsed": false
   },
   "outputs": [
    {
     "data": {
      "image/png": "[encoded data removed]",
      "text/plain": [
       "<matplotlib.figure.Figure at 0x113050810>"
      ]
     },
     "metadata": {},
     "output_type": "display_data"
    }
   ],
   "source": [
    "plt.plot();\n",
    "\n",
    "# Plots a histogram of each semester's overall course scores.\n",
    "for name, group in bigdf.groupby([\"C_Year\", \"C_Term\"]):\n",
    "    group[\"C_Overall\"].hist(bins=50, alpha=0.1);\n",
    "\n",
    "# Calculates the mean and median.\n",
    "mean = bigdf[\"C_Overall\"].mean()\n",
    "median = bigdf[\"C_Overall\"].median()\n",
    "\n",
    "# Adds the mean and median to the histogram, with a legend.\n",
    "plt.axvline(mean, color=\"green\", label=\"Mean: %0.2f\" % mean, alpha=0.5);\n",
    "plt.axvline(median, color =\"red\", label=\"Median: %0.2f\" % median, alpha=0.5);\n",
    "plt.legend(loc=\"upper left\");\n",
    "\n",
    "# Formats the plot.\n",
    "plt.xlim(1,5);\n",
    "plt.xlabel(\"Overall Course Score\");\n",
    "plt.ylabel(\"Frequency\");\n",
    "plt.title(\"Distribution of Overall Course Scores, by Semester\");"
   ]
  },
  {
   "cell_type": "markdown",
   "metadata": {},
   "source": [
    "We can also take a look at the highest rated departments and the lowest, using `groupby`. The CHEMBIO department has the lowest average course scores at about `3.12`, and the PLSH, MEDGREEK, PAL, and GIKUYU departments have had perfect scores for each course in Q guide history. The perfect scores are likely due to low enrollment and people who self-select into those course offerings, whereas the low scores are coming from difficult science departments that could offering requirements for the premed track or other rigorous curricula."
   ]
  },
  {
   "cell_type": "code",
   "execution_count": 118,
   "metadata": {
    "collapsed": false
   },
   "outputs": [
    {
     "name": "stdout",
     "output_type": "stream",
     "text": [
      "TOP 5 DEPARTMENTS:\n",
      "C_Department\n",
      "PLSH        5.000000\n",
      "MEDGREEK    5.000000\n",
      "PAL         5.000000\n",
      "GIKUYU      5.000000\n",
      "ROM-LANG    4.966667\n",
      "Name: C_Overall, dtype: float64 \n",
      "\n",
      "BOTTOM 5 DEPARTMENTS:\n",
      "C_Department\n",
      "CHEMBIO       3.116667\n",
      "BCMP          3.446429\n",
      "APPHY         3.577692\n",
      "SCI-PHYUNV    3.585806\n",
      "APMTH         3.653625\n",
      "Name: C_Overall, dtype: float64\n"
     ]
    }
   ],
   "source": [
    "# Creates a series of department mean overall course scores.\n",
    "deprank = bigdf.groupby(\"C_Department\")[\"C_Overall\"].mean()\n",
    "\n",
    "# Prints the top 5 and bottom 5 departments.\n",
    "deprank.sort(ascending=False)\n",
    "print \"TOP 5 DEPARTMENTS:\\n\", deprank.head(5), \"\\n\"\n",
    "deprank.sort(ascending=True)\n",
    "print \"BOTTOM 5 DEPARTMENTS:\\n\", deprank.head(5)"
   ]
  },
  {
   "cell_type": "markdown",
   "metadata": {},
   "source": [
    "Another interesting trend is the slight discrepancy between Fall scores and Spring scores. In the entire history of the Q, Fall score means have been consistently lower than those in the Spring. However, both have risen over time."
   ]
  },
  {
   "cell_type": "code",
   "execution_count": 119,
   "metadata": {
    "collapsed": false
   },
   "outputs": [
    {
     "data": {
      "image/png": "[encoded data removed]",
      "text/plain": [
       "<matplotlib.figure.Figure at 0x111012490>"
      ]
     },
     "metadata": {},
     "output_type": "display_data"
    }
   ],
   "source": [
    "# Creates a series of semester mean overall course scores.\n",
    "semrank = bigdf.groupby(\"C_Semester\")[\"C_Overall\"].mean()\n",
    "\n",
    "# Plots by semester.\n",
    "semrank[0:4].plot(label=\"Fall\")\n",
    "semrank[5:9].plot(label=\"Spring\")\n",
    "\n",
    "# Formats and labels the plot.\n",
    "plt.xticks(range(4),['2011','2012','2013','2014']);\n",
    "plt.ylim(1,5)\n",
    "plt.xlabel(\"Year\")\n",
    "plt.xlabel(\"Mean of Overall Course Scores\")\n",
    "plt.title(\"Mean of Overall Course Scores vs. Year\")\n",
    "plt.legend();"
   ]
  },
  {
   "cell_type": "markdown",
   "metadata": {},
   "source": [
    "### 2.2 Training and Testing"
   ]
  },
  {
   "cell_type": "markdown",
   "metadata": {},
   "source": [
    "In order to figure out which numerical data are most responsible for the overall course score, we created a copy of the dataframe specifically for numerical analysis, then removed certain columns that we should avoid running regressions on, such as the breakdown of ratings (how many 1s, 2s, etc.), the textual reviews, any string fields, and the course catalog number and id; for the sake of easily identifying courses, we kept department, number, and semester. We removed all reviews from `Fall '14`, as the format of the Q guide changed that semester. Finally, we dropped all rows with missing data."
   ]
  },
  {
   "cell_type": "code",
   "execution_count": 200,
   "metadata": {
    "collapsed": false,
    "scrolled": true
   },
   "outputs": [],
   "source": [
    "# Copies the big dataframe.\n",
    "numdf = bigdf.copy()\n",
    "\n",
    "# Drops columns that we will not be needing.\n",
    "numdf = numdf.drop(numdf.columns[[2,3,4,6,7,11]+list(range(13,17))+list(range(24,40))], axis=1)\n",
    "\n",
    "# Removes Fall '14 data.\n",
    "numdf = numdf[numdf[\"C_Semester\"] != \"Fall '14\"]\n",
    "\n",
    "# Drops rows with missing data.\n",
    "numdf = numdf.dropna(how=\"any\")"
   ]
  },
  {
   "cell_type": "markdown",
   "metadata": {},
   "source": [
    "Here is the resulting dataframe for our numerical analysis:"
   ]
  },
  {
   "cell_type": "code",
   "execution_count": 201,
   "metadata": {
    "collapsed": false,
    "scrolled": true
   },
   "outputs": [
    {
     "data": {
      "text/html": [
       "<div>\n",
       "<table border=\"1\" class=\"dataframe\">\n",
       "  <thead>\n",
       "    <tr style=\"text-align: right;\">\n",
       "      <th></th>\n",
       "      <th>C_Department</th>\n",
       "      <th>C_Number</th>\n",
       "      <th>C_Semester</th>\n",
       "      <th>C_Overall</th>\n",
       "      <th>C_Workload</th>\n",
       "      <th>C_Difficulty</th>\n",
       "      <th>C_Enrollment</th>\n",
       "      <th>I_Overall</th>\n",
       "      <th>I_EffectiveLectures</th>\n",
       "      <th>I_Accessible</th>\n",
       "      <th>I_GeneratesEnthusiasm</th>\n",
       "      <th>I_EncouragesParticipation</th>\n",
       "      <th>I_UsefulFeedback</th>\n",
       "      <th>I_ReturnsAssignmentsTimely</th>\n",
       "      <th>Sem_Median</th>\n",
       "      <th>Positive</th>\n",
       "    </tr>\n",
       "  </thead>\n",
       "  <tbody>\n",
       "    <tr>\n",
       "      <th>0</th>\n",
       "      <td>HISTSCI</td>\n",
       "      <td>270</td>\n",
       "      <td>Spring '12</td>\n",
       "      <td>4.67</td>\n",
       "      <td>2.33</td>\n",
       "      <td>3.33</td>\n",
       "      <td>6</td>\n",
       "      <td>4.67</td>\n",
       "      <td>4.33</td>\n",
       "      <td>4.00</td>\n",
       "      <td>4.33</td>\n",
       "      <td>5.00</td>\n",
       "      <td>4.50</td>\n",
       "      <td>4.00</td>\n",
       "      <td>4.30</td>\n",
       "      <td>True</td>\n",
       "    </tr>\n",
       "    <tr>\n",
       "      <th>2</th>\n",
       "      <td>EXPOS</td>\n",
       "      <td>20.132</td>\n",
       "      <td>Fall '13</td>\n",
       "      <td>3.50</td>\n",
       "      <td>2.60</td>\n",
       "      <td>3.90</td>\n",
       "      <td>13</td>\n",
       "      <td>3.80</td>\n",
       "      <td>4.00</td>\n",
       "      <td>2.50</td>\n",
       "      <td>3.50</td>\n",
       "      <td>4.10</td>\n",
       "      <td>4.30</td>\n",
       "      <td>4.40</td>\n",
       "      <td>4.30</td>\n",
       "      <td>False</td>\n",
       "    </tr>\n",
       "    <tr>\n",
       "      <th>3</th>\n",
       "      <td>EXPOS</td>\n",
       "      <td>20.132</td>\n",
       "      <td>Fall '12</td>\n",
       "      <td>3.73</td>\n",
       "      <td>2.47</td>\n",
       "      <td>3.67</td>\n",
       "      <td>15</td>\n",
       "      <td>3.87</td>\n",
       "      <td>4.33</td>\n",
       "      <td>2.64</td>\n",
       "      <td>3.93</td>\n",
       "      <td>4.18</td>\n",
       "      <td>3.64</td>\n",
       "      <td>3.82</td>\n",
       "      <td>4.25</td>\n",
       "      <td>False</td>\n",
       "    </tr>\n",
       "    <tr>\n",
       "      <th>4</th>\n",
       "      <td>EXPOS</td>\n",
       "      <td>20.132</td>\n",
       "      <td>Fall '11</td>\n",
       "      <td>3.85</td>\n",
       "      <td>2.00</td>\n",
       "      <td>3.54</td>\n",
       "      <td>13</td>\n",
       "      <td>4.08</td>\n",
       "      <td>3.75</td>\n",
       "      <td>3.31</td>\n",
       "      <td>3.92</td>\n",
       "      <td>4.46</td>\n",
       "      <td>4.23</td>\n",
       "      <td>4.08</td>\n",
       "      <td>4.20</td>\n",
       "      <td>False</td>\n",
       "    </tr>\n",
       "    <tr>\n",
       "      <th>5</th>\n",
       "      <td>EXPOS</td>\n",
       "      <td>20.133</td>\n",
       "      <td>Spring '13</td>\n",
       "      <td>4.42</td>\n",
       "      <td>2.58</td>\n",
       "      <td>3.50</td>\n",
       "      <td>12</td>\n",
       "      <td>4.67</td>\n",
       "      <td>4.50</td>\n",
       "      <td>4.08</td>\n",
       "      <td>4.42</td>\n",
       "      <td>4.70</td>\n",
       "      <td>4.60</td>\n",
       "      <td>4.30</td>\n",
       "      <td>4.29</td>\n",
       "      <td>True</td>\n",
       "    </tr>\n",
       "  </tbody>\n",
       "</table>\n",
       "</div>"
      ],
      "text/plain": [
       "  C_Department C_Number  C_Semester  C_Overall  C_Workload  C_Difficulty  C_Enrollment  I_Overall  I_EffectiveLectures  I_Accessible  I_GeneratesEnthusiasm  I_EncouragesParticipation  I_UsefulFeedback  I_ReturnsAssignmentsTimely  Sem_Median Positive\n",
       "0      HISTSCI      270  Spring '12       4.67        2.33          3.33             6       4.67                 4.33          4.00                   4.33                       5.00              4.50                        4.00        4.30     True\n",
       "2        EXPOS   20.132    Fall '13       3.50        2.60          3.90            13       3.80                 4.00          2.50                   3.50                       4.10              4.30                        4.40        4.30    False\n",
       "3        EXPOS   20.132    Fall '12       3.73        2.47          3.67            15       3.87                 4.33          2.64                   3.93                       4.18              3.64                        3.82        4.25    False\n",
       "4        EXPOS   20.132    Fall '11       3.85        2.00          3.54            13       4.08                 3.75          3.31                   3.92                       4.46              4.23                        4.08        4.20    False\n",
       "5        EXPOS   20.133  Spring '13       4.42        2.58          3.50            12       4.67                 4.50          4.08                   4.42                       4.70              4.60                        4.30        4.29     True"
      ]
     },
     "execution_count": 201,
     "metadata": {},
     "output_type": "execute_result"
    }
   ],
   "source": [
    "numdf.head(5)"
   ]
  },
  {
   "cell_type": "markdown",
   "metadata": {},
   "source": [
    "Next, we split the data into training and test sets. Since we are trying to use previous Q data to predict next semester's, we tested on `Spring '14` data and trained on the data in previous semesters."
   ]
  },
  {
   "cell_type": "code",
   "execution_count": 207,
   "metadata": {
    "collapsed": false
   },
   "outputs": [
    {
     "name": "stdout",
     "output_type": "stream",
     "text": [
      "Length of Train is: 4953\n",
      "Length of Test is:  604\n"
     ]
    }
   ],
   "source": [
    "# Separates Spring '14 into the test set and the rest into the training set.\n",
    "train = numdf[numdf[\"C_Semester\"] != \"Spring '14\"]\n",
    "test = numdf[numdf[\"C_Semester\"] == \"Spring '14\"]\n",
    "\n",
    "# Prints the size of the sets.\n",
    "print \"Length of Train is:\", len(train)\n",
    "print \"Length of Test is: \", len(test)"
   ]
  },
  {
   "cell_type": "markdown",
   "metadata": {},
   "source": [
    "Because we included non-numerical columns in the dataframe, we created a list `lcols` to specify which columns should be used for training."
   ]
  },
  {
   "cell_type": "code",
   "execution_count": 209,
   "metadata": {
    "collapsed": false
   },
   "outputs": [
    {
     "data": {
      "text/plain": [
       "['C_Workload',\n",
       " 'C_Difficulty',\n",
       " 'C_Enrollment',\n",
       " 'I_Overall',\n",
       " 'I_EffectiveLectures',\n",
       " 'I_Accessible',\n",
       " 'I_GeneratesEnthusiasm',\n",
       " 'I_EncouragesParticipation',\n",
       " 'I_UsefulFeedback',\n",
       " 'I_ReturnsAssignmentsTimely']"
      ]
     },
     "execution_count": 209,
     "metadata": {},
     "output_type": "execute_result"
    }
   ],
   "source": [
    "# Creates a list of all the columns we have in the numerical dataframe.\n",
    "lcols = list(train.columns)\n",
    "\n",
    "# Removes columns we do not need for training.\n",
    "for c in [\"C_Department\",\"C_Number\",\"C_Semester\",\"C_Overall\",\"Sem_Median\",\"Positive\"]:\n",
    "    lcols.remove(c)\n",
    "\n",
    "# Shows the remaining columns.\n",
    "lcols"
   ]
  },
  {
   "cell_type": "markdown",
   "metadata": {},
   "source": [
    "Now, we will separate the response variable, `Positive`, from the data in `lcols`."
   ]
  },
  {
   "cell_type": "code",
   "execution_count": 210,
   "metadata": {
    "collapsed": true
   },
   "outputs": [],
   "source": [
    "# Creates the X matrix.\n",
    "Xtrain = train[lcols].values\n",
    "Xtest = test[lcols].values\n",
    "\n",
    "# Creates the y response vector.\n",
    "ytrain = train[\"Positive\"].values\n",
    "ytest = test[\"Positive\"].values"
   ]
  },
  {
   "cell_type": "markdown",
   "metadata": {},
   "source": [
    "#### 2.21 Linear SVM"
   ]
  },
  {
   "cell_type": "markdown",
   "metadata": {},
   "source": [
    "As in homework 3, we will start off with a Linear SVM because of its quickness, running `GridSearchCV` over a range of regularization coefficients with 5-fold cross validation."
   ]
  },
  {
   "cell_type": "code",
   "execution_count": 213,
   "metadata": {
    "collapsed": false
   },
   "outputs": [
    {
     "name": "stdout",
     "output_type": "stream",
     "text": [
      "The best value of C is 1.0\n",
      "The accuracy is 0.844134867757\n"
     ]
    }
   ],
   "source": [
    "from sklearn.svm import LinearSVC\n",
    "from sklearn.grid_search import GridSearchCV\n",
    "\n",
    "clfsvm = LinearSVC(loss=\"hinge\")\n",
    "Cs = [0.001, 0.01, 0.1, 1.0, 10.0, 100.0]\n",
    "gs = GridSearchCV(clfsvm, param_grid={'C':Cs}, cv=5)\n",
    "gs.fit(Xtrain, ytrain)\n",
    "\n",
    "# Prints the best C value and its accuracy.\n",
    "print \"The best value of C is\", gs.best_params_[\"C\"]\n",
    "print \"The accuracy is\", gs.best_score_"
   ]
  },
  {
   "cell_type": "markdown",
   "metadata": {},
   "source": [
    "Now, we will refit the data again using the best classifier given by the grid search."
   ]
  },
  {
   "cell_type": "code",
   "execution_count": 214,
   "metadata": {
    "collapsed": false
   },
   "outputs": [
    {
     "name": "stdout",
     "output_type": "stream",
     "text": [
      "Refitting the training data with C = 1.0 yields an accuracy: 0.862582781457\n"
     ]
    }
   ],
   "source": [
    "# Stores the best classifier.\n",
    "best = gs.best_estimator_\n",
    "\n",
    "# Refits the training data.\n",
    "best.fit(Xtrain, ytrain)\n",
    "\n",
    "# Prints the refitted accuracy.\n",
    "print \"Refitting the training data with C =\", gs.best_params_[\"C\"], \"yields an accuracy:\", best.score(Xtest, Yresp_test)"
   ]
  },
  {
   "cell_type": "markdown",
   "metadata": {},
   "source": [
    "#### 2.22 Logistic Regression"
   ]
  },
  {
   "cell_type": "markdown",
   "metadata": {},
   "source": [
    "Now, we will move onto a logistic regression."
   ]
  },
  {
   "cell_type": "code",
   "execution_count": 165,
   "metadata": {
    "collapsed": false
   },
   "outputs": [
    {
     "name": "stdout",
     "output_type": "stream",
     "text": [
      "Training accuracy is 0.85523924894\n",
      "Test accuracy is  0.854304635762\n"
     ]
    }
   ],
   "source": [
    "from sklearn.linear_model import LogisticRegression \n",
    "\n",
    "model = LogisticRegression()\n",
    "logisticmodel = model.fit(Xtrain, ytrain)\n",
    "\n",
    "# check the accuracy on the training set\n",
    "print \"Training accuracy is\", model.score(Xtrain, ytrain) \n",
    "\n",
    "#check the accuracy on test set \n",
    "print \"Test accuracy is \", model.score(Xtest, ytest)"
   ]
  },
  {
   "cell_type": "code",
   "execution_count": 163,
   "metadata": {
    "collapsed": true
   },
   "outputs": [],
   "source": [
    "from sklearn.ensemble import RandomForestClassifier  \n",
    "from sklearn import ensemble\n",
    "\n",
    "rf = RandomForestClassifier(n_estimators=100)\n",
    "rfmodel = rf.fit(Xtrain, ytrain) "
   ]
  },
  {
   "cell_type": "code",
   "execution_count": 164,
   "metadata": {
    "collapsed": false
   },
   "outputs": [
    {
     "data": {
      "text/plain": [
       "0.86920529801324509"
      ]
     },
     "execution_count": 164,
     "metadata": {},
     "output_type": "execute_result"
    }
   ],
   "source": [
    "acc = rfmodel.score(Xtest,ytest) \n",
    "acc"
   ]
  },
  {
   "cell_type": "code",
   "execution_count": 167,
   "metadata": {
    "collapsed": true
   },
   "outputs": [],
   "source": [
    "from sklearn.metrics import roc_curve, auc\n",
    "def make_roc(name, clf, ytest, xtest, ax=None, labe=5, proba=True, skip=0):\n",
    "    initial=False\n",
    "    if not ax:\n",
    "        ax=plt.gca()\n",
    "        initial=True\n",
    "    if proba:#for stuff like logistic regression\n",
    "        fpr, tpr, thresholds=roc_curve(ytest, clf.predict_proba(xtest)[:,1])\n",
    "    else:#for stuff like SVM\n",
    "        fpr, tpr, thresholds=roc_curve(ytest, clf.decision_function(xtest))\n",
    "    roc_auc = auc(fpr, tpr)\n",
    "    if skip:\n",
    "        l=fpr.shape[0]\n",
    "        ax.plot(fpr[0:l:skip], tpr[0:l:skip], '.-', alpha=0.3, label='ROC curve for %s (area = %0.2f)' % (name, roc_auc))\n",
    "    else:\n",
    "        ax.plot(fpr, tpr, '.-', alpha=0.3, label='ROC curve for %s (area = %0.2f)' % (name, roc_auc))\n",
    "    label_kwargs = {}\n",
    "    label_kwargs['bbox'] = dict(\n",
    "        boxstyle='round,pad=0.3', alpha=0.2,\n",
    "    )\n",
    "    if labe!=None:\n",
    "        for k in xrange(0, fpr.shape[0],labe):\n",
    "            #from https://gist.github.com/podshumok/c1d1c9394335d86255b8\n",
    "            threshold = str(np.round(thresholds[k], 2))\n",
    "            ax.annotate(threshold, (fpr[k], tpr[k]), **label_kwargs)\n",
    "    if initial:\n",
    "        ax.plot([0, 1], [0, 1], 'k--')\n",
    "        ax.set_xlim([0.0, 1.0])\n",
    "        ax.set_ylim([0.0, 1.05])\n",
    "        ax.set_xlabel('False Positive Rate')\n",
    "        ax.set_ylabel('True Positive Rate')\n",
    "        ax.set_title('ROC')\n",
    "    ax.legend(loc=\"lower right\")\n",
    "    return ax"
   ]
  },
  {
   "cell_type": "code",
   "execution_count": 168,
   "metadata": {
    "collapsed": false,
    "scrolled": false
   },
   "outputs": [
    {
     "data": {
      "image/png": "[encoded data removed]",
      "text/plain": [
       "<matplotlib.figure.Figure at 0x113609950>"
      ]
     },
     "metadata": {},
     "output_type": "display_data"
    }
   ],
   "source": [
    "with sns.hls_palette(8, l=.3, s=.8):\n",
    "    ax=make_roc(\"logistic-regression\",model, ytest, Xtest, labe=200, skip=50) \n",
    "    ax=make_roc(\"random-forest-classifier\", rfmodel, ytest, Xtest, labe=20, skip=10) \n",
    "    ax = make_roc(\"linear-svm-all-features\", best, ytest, Xtest, labe=200, proba=False, skip=50)   "
   ]
  },
  {
   "cell_type": "code",
   "execution_count": 182,
   "metadata": {
    "collapsed": false
   },
   "outputs": [
    {
     "data": {
      "text/html": [
       "<div>\n",
       "<table border=\"1\" class=\"dataframe\">\n",
       "  <thead>\n",
       "    <tr style=\"text-align: right;\">\n",
       "      <th></th>\n",
       "      <th>feature</th>\n",
       "      <th>abscoef</th>\n",
       "      <th>coef</th>\n",
       "    </tr>\n",
       "  </thead>\n",
       "  <tbody>\n",
       "    <tr>\n",
       "      <th>0</th>\n",
       "      <td>I_Overall</td>\n",
       "      <td>2.085056</td>\n",
       "      <td>2.085056</td>\n",
       "    </tr>\n",
       "    <tr>\n",
       "      <th>1</th>\n",
       "      <td>I_GeneratesEnthusiasm</td>\n",
       "      <td>0.569450</td>\n",
       "      <td>0.569450</td>\n",
       "    </tr>\n",
       "    <tr>\n",
       "      <th>2</th>\n",
       "      <td>C_Difficulty</td>\n",
       "      <td>0.414462</td>\n",
       "      <td>-0.414462</td>\n",
       "    </tr>\n",
       "    <tr>\n",
       "      <th>3</th>\n",
       "      <td>I_EffectiveLectures</td>\n",
       "      <td>0.412167</td>\n",
       "      <td>0.412167</td>\n",
       "    </tr>\n",
       "    <tr>\n",
       "      <th>4</th>\n",
       "      <td>C_Workload</td>\n",
       "      <td>0.313505</td>\n",
       "      <td>0.313505</td>\n",
       "    </tr>\n",
       "    <tr>\n",
       "      <th>5</th>\n",
       "      <td>I_Accessible</td>\n",
       "      <td>0.276178</td>\n",
       "      <td>-0.276178</td>\n",
       "    </tr>\n",
       "    <tr>\n",
       "      <th>6</th>\n",
       "      <td>I_EncouragesParticipation</td>\n",
       "      <td>0.258113</td>\n",
       "      <td>0.258113</td>\n",
       "    </tr>\n",
       "    <tr>\n",
       "      <th>7</th>\n",
       "      <td>I_ReturnsAssignmentsTimely</td>\n",
       "      <td>0.129376</td>\n",
       "      <td>0.129376</td>\n",
       "    </tr>\n",
       "    <tr>\n",
       "      <th>8</th>\n",
       "      <td>I_UsefulFeedback</td>\n",
       "      <td>0.010614</td>\n",
       "      <td>0.010614</td>\n",
       "    </tr>\n",
       "    <tr>\n",
       "      <th>9</th>\n",
       "      <td>C_Enrollment</td>\n",
       "      <td>0.008339</td>\n",
       "      <td>-0.008339</td>\n",
       "    </tr>\n",
       "  </tbody>\n",
       "</table>\n",
       "</div>"
      ],
      "text/plain": [
       "                      feature   abscoef      coef\n",
       "0                   I_Overall  2.085056  2.085056\n",
       "1       I_GeneratesEnthusiasm  0.569450  0.569450\n",
       "2                C_Difficulty  0.414462 -0.414462\n",
       "3         I_EffectiveLectures  0.412167  0.412167\n",
       "4                  C_Workload  0.313505  0.313505\n",
       "5                I_Accessible  0.276178 -0.276178\n",
       "6   I_EncouragesParticipation  0.258113  0.258113\n",
       "7  I_ReturnsAssignmentsTimely  0.129376  0.129376\n",
       "8            I_UsefulFeedback  0.010614  0.010614\n",
       "9                C_Enrollment  0.008339 -0.008339"
      ]
     },
     "execution_count": 182,
     "metadata": {},
     "output_type": "execute_result"
    }
   ],
   "source": [
    "def nonzero_lasso(clf):\n",
    "    featuremask=(clf.coef_ !=0.0)[0]\n",
    "    return pd.DataFrame(dict(feature=lcols, coef=clf.coef_[0], abscoef=np.abs(clf.coef_[0])))[featuremask].sort('abscoef', ascending=False) \n",
    "\n",
    "lasso_importances=nonzero_lasso(best)\n",
    "lasso_importances.set_index(\"feature\", inplace=True)\n",
    "lasso_importances.reset_index(\"feature\", inplace=True)\n",
    "lasso_importances"
   ]
  },
  {
   "cell_type": "code",
   "execution_count": 186,
   "metadata": {
    "collapsed": true
   },
   "outputs": [],
   "source": [
    "#Let's run a pipelined classifier with feature selection to see if we can improve our classifier.  \n",
    "from sklearn import feature_selection\n",
    "from sklearn.pipeline import Pipeline\n",
    "from sklearn.feature_selection import SelectKBest\n",
    "from scipy.stats import pearsonr\n",
    "\n",
    "def pearson_scorer(X,y):\n",
    "    rs=np.zeros(X.shape[1])\n",
    "    pvals=np.zeros(X.shape[1])\n",
    "    i=0\n",
    "    for v in X.T:\n",
    "        rs[i], pvals[i]=pearsonr(v, y)\n",
    "        i=i+1\n",
    "    return np.abs(rs), pvals   \n",
    "selectorlinearsvm = SelectKBest(k=10, score_func=pearson_scorer)\n",
    "pipelinearsvm = Pipeline([('select', selectorlinearsvm), ('svm', LinearSVC(loss=\"hinge\"))])"
   ]
  },
  {
   "cell_type": "code",
   "execution_count": 187,
   "metadata": {
    "collapsed": false
   },
   "outputs": [
    {
     "data": {
      "text/plain": [
       "0.76821192052980136"
      ]
     },
     "execution_count": 187,
     "metadata": {},
     "output_type": "execute_result"
    }
   ],
   "source": [
    "# Now we can see if our pipeline linear SVM classifier with feature select did better than our original linear SVM classifier.\n",
    "pipeline = pipelinearsvm.fit(Xtrain, ytrain) \n",
    "pipeline.score(Xtest, ytest) "
   ]
  },
  {
   "cell_type": "code",
   "execution_count": 188,
   "metadata": {
    "collapsed": false
   },
   "outputs": [
    {
     "data": {
      "text/plain": [
       "array(['C_Workload', 'C_Difficulty', 'C_Enrollment', 'I_Overall',\n",
       "       'I_EffectiveLectures', 'I_Accessible', 'I_GeneratesEnthusiasm',\n",
       "       'I_EncouragesParticipation', 'I_UsefulFeedback',\n",
       "       'I_ReturnsAssignmentsTimely'], \n",
       "      dtype='|S26')"
      ]
     },
     "execution_count": 188,
     "metadata": {},
     "output_type": "execute_result"
    }
   ],
   "source": [
    "#What features did the pipeline classifier select? \n",
    "np.array(lcols)[pipeline.get_params()[\"select\"].get_support()]"
   ]
  },
  {
   "cell_type": "code",
   "execution_count": 189,
   "metadata": {
    "collapsed": false
   },
   "outputs": [
    {
     "data": {
      "image/png": "[encoded data removed]",
      "text/plain": [
       "<matplotlib.figure.Figure at 0x1132badd0>"
      ]
     },
     "metadata": {},
     "output_type": "display_data"
    }
   ],
   "source": [
    "with sns.hls_palette(8, l=.3, s=.8):\n",
    "    ax=make_roc(\"logistic-regression\",model, ytest, Xtest, labe=200, skip=50) \n",
    "    ax=make_roc(\"random-forest-classifier\", rfmodel, ytest, Xtest, labe=20, skip=10) \n",
    "    ax = make_roc(\"linear-svm-all-features\", best, ytest, Xtest, labe=200, proba=False, skip=10)   \n",
    "    ax = make_roc(\"linear-svm-feature-selected\", pipeline, ytest, Xtest, labe=200, proba=False, skip=50)"
   ]
  },
  {
   "cell_type": "markdown",
   "metadata": {},
   "source": [
    "## Part 3: Text Analysis"
   ]
  },
  {
   "cell_type": "markdown",
   "metadata": {},
   "source": []
  },
  {
   "cell_type": "markdown",
   "metadata": {},
   "source": []
  },
  {
   "cell_type": "markdown",
   "metadata": {},
   "source": []
  },
  {
   "cell_type": "markdown",
   "metadata": {},
   "source": []
  },
  {
   "cell_type": "markdown",
   "metadata": {},
   "source": []
  },
  {
   "cell_type": "markdown",
   "metadata": {},
   "source": []
  },
  {
   "cell_type": "markdown",
   "metadata": {},
   "source": []
  },
  {
   "cell_type": "markdown",
   "metadata": {},
   "source": []
  },
  {
   "cell_type": "markdown",
   "metadata": {},
   "source": []
  },
  {
   "cell_type": "markdown",
   "metadata": {
    "collapsed": true
   },
   "source": [
    "## References"
   ]
  },
  {
   "cell_type": "markdown",
   "metadata": {},
   "source": [
    "http://www.fas.harvard.edu/~evals/  \n",
    "http://www.clipartpanda.com/categories/cool-question-marks"
   ]
  }
 ],
 "metadata": {
  "kernelspec": {
   "display_name": "Python 2",
   "language": "python",
   "name": "python2"
  },
  "language_info": {
   "codemirror_mode": {
    "name": "ipython",
    "version": 2
   },
   "file_extension": ".py",
   "mimetype": "text/x-python",
   "name": "python",
   "nbconvert_exporter": "python",
   "pygments_lexer": "ipython2",
   "version": "2.7.10"
  }
 },
 "nbformat": 4,
 "nbformat_minor": 0
}
