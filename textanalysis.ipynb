{
 "cells": [
  {
   "cell_type": "markdown",
   "metadata": {},
   "source": [
    "# Curious Comments \n",
    "![commentpic](comment_structure.png)"
   ]
  },
  {
   "cell_type": "markdown",
   "metadata": {},
   "source": [
    "A critical part of any review are the comments. We will now proceed to analyze the comments in our q data. We will judge the predictive power of these comments, and analyze the role they play in a score's q rating."
   ]
  },
  {
   "cell_type": "code",
   "execution_count": 1,
   "metadata": {
    "collapsed": true
   },
   "outputs": [],
   "source": [
    "%matplotlib inline\n",
    "import numpy as np\n",
    "import scipy as sp\n",
    "import matplotlib as mpl\n",
    "import matplotlib.cm as cm\n",
    "import matplotlib.pyplot as plt\n",
    "import pandas as pd\n",
    "pd.set_option('display.width', 500)\n",
    "pd.set_option('display.max_columns', 100)\n",
    "pd.set_option('display.notebook_repr_html', True)\n",
    "import seaborn as sns\n",
    "sns.set_style(\"whitegrid\")\n",
    "sns.set_context(\"poster\")\n",
    "import os\n",
    "import math\n",
    "from itertools import chain\n",
    "import ast"
   ]
  },
  {
   "cell_type": "markdown",
   "metadata": {},
   "source": [
    "We begin by creating a dataframe of comments. We will randomly subsample 10 comments per review and only consider courses 10 or more comments. Our dataframe will consist of three columns; Comment, Course and Overall Positive Rating. A course defined to have an 'Overall Positive Rating' if it has been been given more positive ratings than negative ratings across all semesters that it has been rated."
   ]
  },
  {
   "cell_type": "code",
   "execution_count": 2,
   "metadata": {
    "collapsed": false
   },
   "outputs": [],
   "source": [
    "MIN_PER_COURSESEM_REVIEWS = 5"
   ]
  },
  {
   "cell_type": "code",
   "execution_count": 3,
   "metadata": {
    "collapsed": false
   },
   "outputs": [
    {
     "data": {
      "text/html": [
       "<div>\n",
       "<table border=\"1\" class=\"dataframe\">\n",
       "  <thead>\n",
       "    <tr style=\"text-align: right;\">\n",
       "      <th></th>\n",
       "      <th>C_Department</th>\n",
       "      <th>C_Number</th>\n",
       "      <th>Course</th>\n",
       "      <th>C_CatNum</th>\n",
       "      <th>C_ID</th>\n",
       "      <th>C_Semester</th>\n",
       "      <th>C_Year</th>\n",
       "      <th>C_Term</th>\n",
       "      <th>C_Overall</th>\n",
       "      <th>C_Workload</th>\n",
       "      <th>C_Difficulty</th>\n",
       "      <th>C_Recommendation</th>\n",
       "      <th>C_Enrollment</th>\n",
       "      <th>C_ResponseRate</th>\n",
       "      <th>I_First</th>\n",
       "      <th>I_Last</th>\n",
       "      <th>I_ID</th>\n",
       "      <th>I_Overall</th>\n",
       "      <th>I_EffectiveLectures</th>\n",
       "      <th>I_Accessible</th>\n",
       "      <th>I_GeneratesEnthusiasm</th>\n",
       "      <th>I_EncouragesParticipation</th>\n",
       "      <th>I_UsefulFeedback</th>\n",
       "      <th>I_ReturnsAssignmentsTimely</th>\n",
       "      <th>QOverall_1</th>\n",
       "      <th>QOverall_2</th>\n",
       "      <th>QOverall_3</th>\n",
       "      <th>QOverall_4</th>\n",
       "      <th>QOverall_5</th>\n",
       "      <th>QDifficulty_1</th>\n",
       "      <th>QDifficulty_2</th>\n",
       "      <th>QDifficulty_3</th>\n",
       "      <th>QDifficulty_4</th>\n",
       "      <th>QDifficulty_5</th>\n",
       "      <th>QWorkload_1</th>\n",
       "      <th>QWorkload_2</th>\n",
       "      <th>QWorkload_3</th>\n",
       "      <th>QWorkload_4</th>\n",
       "      <th>QWorkload_5</th>\n",
       "      <th>Comments</th>\n",
       "      <th>Sem_Average</th>\n",
       "      <th>Positive</th>\n",
       "    </tr>\n",
       "  </thead>\n",
       "  <tbody>\n",
       "    <tr>\n",
       "      <th>0</th>\n",
       "      <td>HISTSCI</td>\n",
       "      <td>270</td>\n",
       "      <td>HISTSCI-270</td>\n",
       "      <td>58523</td>\n",
       "      <td>2697</td>\n",
       "      <td>Spring '12</td>\n",
       "      <td>2011</td>\n",
       "      <td>2</td>\n",
       "      <td>4.67</td>\n",
       "      <td>2.33</td>\n",
       "      <td>3.33</td>\n",
       "      <td>5.00</td>\n",
       "      <td>6</td>\n",
       "      <td>50.00</td>\n",
       "      <td>Rebecca</td>\n",
       "      <td>Lemov</td>\n",
       "      <td>79de794d3e2e19eb71a2033b0ec0b76d</td>\n",
       "      <td>4.67</td>\n",
       "      <td>4.33</td>\n",
       "      <td>4.00</td>\n",
       "      <td>4.33</td>\n",
       "      <td>5.00</td>\n",
       "      <td>4.50</td>\n",
       "      <td>4.00</td>\n",
       "      <td>0</td>\n",
       "      <td>0</td>\n",
       "      <td>0</td>\n",
       "      <td>1</td>\n",
       "      <td>2</td>\n",
       "      <td>0</td>\n",
       "      <td>0</td>\n",
       "      <td>2</td>\n",
       "      <td>1</td>\n",
       "      <td>0</td>\n",
       "      <td>0</td>\n",
       "      <td>2</td>\n",
       "      <td>1</td>\n",
       "      <td>0</td>\n",
       "      <td>0</td>\n",
       "      <td>[u'This course is a perfect example of what gr...</td>\n",
       "      <td>4.226350</td>\n",
       "      <td>True</td>\n",
       "    </tr>\n",
       "    <tr>\n",
       "      <th>1</th>\n",
       "      <td>EXPOS</td>\n",
       "      <td>20.132</td>\n",
       "      <td>EXPOS-20.132</td>\n",
       "      <td>22108</td>\n",
       "      <td>1676</td>\n",
       "      <td>Fall '14</td>\n",
       "      <td>2014</td>\n",
       "      <td>1</td>\n",
       "      <td>4.10</td>\n",
       "      <td>7.10</td>\n",
       "      <td>NaN</td>\n",
       "      <td>3.50</td>\n",
       "      <td>13</td>\n",
       "      <td>76.92</td>\n",
       "      <td>Owen</td>\n",
       "      <td>Chen</td>\n",
       "      <td>1341ccb7bd27f47e68625b63b15281d1</td>\n",
       "      <td>4.50</td>\n",
       "      <td>4.60</td>\n",
       "      <td>3.70</td>\n",
       "      <td>3.90</td>\n",
       "      <td>3.90</td>\n",
       "      <td>4.10</td>\n",
       "      <td>4.60</td>\n",
       "      <td>0</td>\n",
       "      <td>1</td>\n",
       "      <td>1</td>\n",
       "      <td>4</td>\n",
       "      <td>4</td>\n",
       "      <td>0</td>\n",
       "      <td>1</td>\n",
       "      <td>2</td>\n",
       "      <td>7</td>\n",
       "      <td>3</td>\n",
       "      <td>1</td>\n",
       "      <td>3</td>\n",
       "      <td>4</td>\n",
       "      <td>1</td>\n",
       "      <td>0</td>\n",
       "      <td>[u'The class has a fairly high work load, but ...</td>\n",
       "      <td>4.244370</td>\n",
       "      <td>False</td>\n",
       "    </tr>\n",
       "    <tr>\n",
       "      <th>2</th>\n",
       "      <td>EXPOS</td>\n",
       "      <td>20.132</td>\n",
       "      <td>EXPOS-20.132</td>\n",
       "      <td>22108</td>\n",
       "      <td>1676</td>\n",
       "      <td>Fall '13</td>\n",
       "      <td>2013</td>\n",
       "      <td>1</td>\n",
       "      <td>3.50</td>\n",
       "      <td>2.60</td>\n",
       "      <td>3.90</td>\n",
       "      <td>3.20</td>\n",
       "      <td>13</td>\n",
       "      <td>100.00</td>\n",
       "      <td>Owen</td>\n",
       "      <td>Chen</td>\n",
       "      <td>1341ccb7bd27f47e68625b63b15281d1</td>\n",
       "      <td>3.80</td>\n",
       "      <td>4.00</td>\n",
       "      <td>2.50</td>\n",
       "      <td>3.50</td>\n",
       "      <td>4.10</td>\n",
       "      <td>4.30</td>\n",
       "      <td>4.40</td>\n",
       "      <td>0</td>\n",
       "      <td>1</td>\n",
       "      <td>1</td>\n",
       "      <td>4</td>\n",
       "      <td>4</td>\n",
       "      <td>0</td>\n",
       "      <td>1</td>\n",
       "      <td>2</td>\n",
       "      <td>7</td>\n",
       "      <td>3</td>\n",
       "      <td>1</td>\n",
       "      <td>3</td>\n",
       "      <td>4</td>\n",
       "      <td>1</td>\n",
       "      <td>0</td>\n",
       "      <td>[u'Philosophy of the State with Dr. Chen offer...</td>\n",
       "      <td>4.256888</td>\n",
       "      <td>False</td>\n",
       "    </tr>\n",
       "    <tr>\n",
       "      <th>3</th>\n",
       "      <td>EXPOS</td>\n",
       "      <td>20.132</td>\n",
       "      <td>EXPOS-20.132</td>\n",
       "      <td>22108</td>\n",
       "      <td>1676</td>\n",
       "      <td>Fall '12</td>\n",
       "      <td>2012</td>\n",
       "      <td>1</td>\n",
       "      <td>3.73</td>\n",
       "      <td>2.47</td>\n",
       "      <td>3.67</td>\n",
       "      <td>3.47</td>\n",
       "      <td>15</td>\n",
       "      <td>100.00</td>\n",
       "      <td>Owen</td>\n",
       "      <td>Chen</td>\n",
       "      <td>1341ccb7bd27f47e68625b63b15281d1</td>\n",
       "      <td>3.87</td>\n",
       "      <td>4.33</td>\n",
       "      <td>2.64</td>\n",
       "      <td>3.93</td>\n",
       "      <td>4.18</td>\n",
       "      <td>3.64</td>\n",
       "      <td>3.82</td>\n",
       "      <td>0</td>\n",
       "      <td>1</td>\n",
       "      <td>1</td>\n",
       "      <td>4</td>\n",
       "      <td>4</td>\n",
       "      <td>0</td>\n",
       "      <td>1</td>\n",
       "      <td>2</td>\n",
       "      <td>7</td>\n",
       "      <td>3</td>\n",
       "      <td>1</td>\n",
       "      <td>3</td>\n",
       "      <td>4</td>\n",
       "      <td>1</td>\n",
       "      <td>0</td>\n",
       "      <td>[u'This was by far my favorite course. Dr. Che...</td>\n",
       "      <td>4.190299</td>\n",
       "      <td>False</td>\n",
       "    </tr>\n",
       "    <tr>\n",
       "      <th>4</th>\n",
       "      <td>EXPOS</td>\n",
       "      <td>20.132</td>\n",
       "      <td>EXPOS-20.132</td>\n",
       "      <td>22108</td>\n",
       "      <td>1676</td>\n",
       "      <td>Fall '11</td>\n",
       "      <td>2011</td>\n",
       "      <td>1</td>\n",
       "      <td>3.85</td>\n",
       "      <td>2.00</td>\n",
       "      <td>3.54</td>\n",
       "      <td>3.62</td>\n",
       "      <td>13</td>\n",
       "      <td>100.00</td>\n",
       "      <td>Owen</td>\n",
       "      <td>Chen</td>\n",
       "      <td>1341ccb7bd27f47e68625b63b15281d1</td>\n",
       "      <td>4.08</td>\n",
       "      <td>3.75</td>\n",
       "      <td>3.31</td>\n",
       "      <td>3.92</td>\n",
       "      <td>4.46</td>\n",
       "      <td>4.23</td>\n",
       "      <td>4.08</td>\n",
       "      <td>0</td>\n",
       "      <td>1</td>\n",
       "      <td>1</td>\n",
       "      <td>4</td>\n",
       "      <td>4</td>\n",
       "      <td>0</td>\n",
       "      <td>1</td>\n",
       "      <td>2</td>\n",
       "      <td>7</td>\n",
       "      <td>3</td>\n",
       "      <td>1</td>\n",
       "      <td>3</td>\n",
       "      <td>4</td>\n",
       "      <td>1</td>\n",
       "      <td>0</td>\n",
       "      <td>[u'Be prepared to read', u'Discussions were gr...</td>\n",
       "      <td>4.185893</td>\n",
       "      <td>False</td>\n",
       "    </tr>\n",
       "  </tbody>\n",
       "</table>\n",
       "</div>"
      ],
      "text/plain": [
       "  C_Department C_Number        Course  C_CatNum  C_ID  C_Semester  C_Year  C_Term  C_Overall  C_Workload  C_Difficulty  C_Recommendation  C_Enrollment  C_ResponseRate  I_First I_Last                              I_ID  I_Overall  I_EffectiveLectures  I_Accessible  I_GeneratesEnthusiasm  I_EncouragesParticipation  I_UsefulFeedback  I_ReturnsAssignmentsTimely  QOverall_1  QOverall_2  QOverall_3  QOverall_4  QOverall_5  QDifficulty_1  QDifficulty_2  QDifficulty_3  QDifficulty_4  QDifficulty_5  \\\n",
       "0      HISTSCI      270   HISTSCI-270     58523  2697  Spring '12    2011       2       4.67        2.33          3.33              5.00             6           50.00  Rebecca  Lemov  79de794d3e2e19eb71a2033b0ec0b76d       4.67                 4.33          4.00                   4.33                       5.00              4.50                        4.00           0           0           0           1           2              0              0              2              1              0   \n",
       "1        EXPOS   20.132  EXPOS-20.132     22108  1676    Fall '14    2014       1       4.10        7.10           NaN              3.50            13           76.92     Owen   Chen  1341ccb7bd27f47e68625b63b15281d1       4.50                 4.60          3.70                   3.90                       3.90              4.10                        4.60           0           1           1           4           4              0              1              2              7              3   \n",
       "2        EXPOS   20.132  EXPOS-20.132     22108  1676    Fall '13    2013       1       3.50        2.60          3.90              3.20            13          100.00     Owen   Chen  1341ccb7bd27f47e68625b63b15281d1       3.80                 4.00          2.50                   3.50                       4.10              4.30                        4.40           0           1           1           4           4              0              1              2              7              3   \n",
       "3        EXPOS   20.132  EXPOS-20.132     22108  1676    Fall '12    2012       1       3.73        2.47          3.67              3.47            15          100.00     Owen   Chen  1341ccb7bd27f47e68625b63b15281d1       3.87                 4.33          2.64                   3.93                       4.18              3.64                        3.82           0           1           1           4           4              0              1              2              7              3   \n",
       "4        EXPOS   20.132  EXPOS-20.132     22108  1676    Fall '11    2011       1       3.85        2.00          3.54              3.62            13          100.00     Owen   Chen  1341ccb7bd27f47e68625b63b15281d1       4.08                 3.75          3.31                   3.92                       4.46              4.23                        4.08           0           1           1           4           4              0              1              2              7              3   \n",
       "\n",
       "   QWorkload_1  QWorkload_2  QWorkload_3  QWorkload_4  QWorkload_5                                           Comments  Sem_Average Positive  \n",
       "0            0            2            1            0            0  [u'This course is a perfect example of what gr...     4.226350     True  \n",
       "1            1            3            4            1            0  [u'The class has a fairly high work load, but ...     4.244370    False  \n",
       "2            1            3            4            1            0  [u'Philosophy of the State with Dr. Chen offer...     4.256888    False  \n",
       "3            1            3            4            1            0  [u'This was by far my favorite course. Dr. Che...     4.190299    False  \n",
       "4            1            3            4            1            0  [u'Be prepared to read', u'Discussions were gr...     4.185893    False  "
      ]
     },
     "execution_count": 3,
     "metadata": {},
     "output_type": "execute_result"
    }
   ],
   "source": [
    "bigdf=pd.read_csv(\"bigdf.csv\")\n",
    "bigdf.reset_index(drop=True)\n",
    "bigdf.head(5)"
   ]
  },
  {
   "cell_type": "code",
   "execution_count": 4,
   "metadata": {
    "collapsed": false
   },
   "outputs": [],
   "source": [
    "def sample_comments(commentsListAsString):\n",
    "    if type(commentsListAsString) != str:\n",
    "        return \"\"\n",
    "    else:\n",
    "        allComments = ast.literal_eval(commentsListAsString)\n",
    "        if len(allComments) >= MIN_PER_COURSESEM_REVIEWS:\n",
    "            return \" \".join(np.random.choice(allComments, MIN_PER_COURSESEM_REVIEWS, replace=False))\n",
    "        else:\n",
    "            return \"\"\n",
    "\n",
    "subdf = bigdf[['Course','C_Semester','Comments', 'Positive', 'C_Overall']].dropna()\n",
    "subdf[\"Sampled_Comments\"] = subdf.Comments.map(sample_comments)\n",
    "subdf = subdf[subdf.Sampled_Comments != \"\"]"
   ]
  },
  {
   "cell_type": "code",
   "execution_count": 5,
   "metadata": {
    "collapsed": false
   },
   "outputs": [
    {
     "data": {
      "text/html": [
       "<div>\n",
       "<table border=\"1\" class=\"dataframe\">\n",
       "  <thead>\n",
       "    <tr style=\"text-align: right;\">\n",
       "      <th></th>\n",
       "      <th>Course</th>\n",
       "      <th>C_Semester</th>\n",
       "      <th>Comments</th>\n",
       "      <th>Positive</th>\n",
       "      <th>C_Overall</th>\n",
       "      <th>Sampled_Comments</th>\n",
       "    </tr>\n",
       "  </thead>\n",
       "  <tbody>\n",
       "    <tr>\n",
       "      <th>1</th>\n",
       "      <td>EXPOS-20.132</td>\n",
       "      <td>Fall '14</td>\n",
       "      <td>[u'The class has a fairly high work load, but ...</td>\n",
       "      <td>False</td>\n",
       "      <td>4.10</td>\n",
       "      <td>Unfortunately, I am unlikely to recommend this...</td>\n",
       "    </tr>\n",
       "    <tr>\n",
       "      <th>2</th>\n",
       "      <td>EXPOS-20.132</td>\n",
       "      <td>Fall '13</td>\n",
       "      <td>[u'Philosophy of the State with Dr. Chen offer...</td>\n",
       "      <td>False</td>\n",
       "      <td>3.50</td>\n",
       "      <td>Philosophy of the State with Dr. Chen offers m...</td>\n",
       "    </tr>\n",
       "    <tr>\n",
       "      <th>3</th>\n",
       "      <td>EXPOS-20.132</td>\n",
       "      <td>Fall '12</td>\n",
       "      <td>[u'This was by far my favorite course. Dr. Che...</td>\n",
       "      <td>False</td>\n",
       "      <td>3.73</td>\n",
       "      <td>This class is enriching if you do all of the r...</td>\n",
       "    </tr>\n",
       "    <tr>\n",
       "      <th>4</th>\n",
       "      <td>EXPOS-20.132</td>\n",
       "      <td>Fall '11</td>\n",
       "      <td>[u'Be prepared to read', u'Discussions were gr...</td>\n",
       "      <td>False</td>\n",
       "      <td>3.85</td>\n",
       "      <td>This class is great for anyone interested in l...</td>\n",
       "    </tr>\n",
       "    <tr>\n",
       "      <th>7</th>\n",
       "      <td>EXPOS-20.133</td>\n",
       "      <td>Spring '14</td>\n",
       "      <td>[u'This is not a bad Expos course. Dr. Chen is...</td>\n",
       "      <td>False</td>\n",
       "      <td>3.90</td>\n",
       "      <td>This class demands a high level of work if you...</td>\n",
       "    </tr>\n",
       "    <tr>\n",
       "      <th>13</th>\n",
       "      <td>EXPOS-20.131</td>\n",
       "      <td>Fall '14</td>\n",
       "      <td>[u'If you are interested in political philosop...</td>\n",
       "      <td>False</td>\n",
       "      <td>3.80</td>\n",
       "      <td>The preceptor gives good feedback. If you are ...</td>\n",
       "    </tr>\n",
       "    <tr>\n",
       "      <th>14</th>\n",
       "      <td>EXPOS-20.131</td>\n",
       "      <td>Fall '13</td>\n",
       "      <td>[u'This class involves quite a bit of reading,...</td>\n",
       "      <td>False</td>\n",
       "      <td>3.60</td>\n",
       "      <td>If you are intrigued by tracing the habits and...</td>\n",
       "    </tr>\n",
       "    <tr>\n",
       "      <th>15</th>\n",
       "      <td>EXPOS-20.131</td>\n",
       "      <td>Fall '12</td>\n",
       "      <td>[u\"A basic, but thorough, understanding of phi...</td>\n",
       "      <td>False</td>\n",
       "      <td>3.86</td>\n",
       "      <td>I feel like I missed a great opportunity on th...</td>\n",
       "    </tr>\n",
       "    <tr>\n",
       "      <th>16</th>\n",
       "      <td>EXPOS-20.131</td>\n",
       "      <td>Fall '11</td>\n",
       "      <td>[u'It is a great class, which combines develop...</td>\n",
       "      <td>True</td>\n",
       "      <td>4.50</td>\n",
       "      <td>It is a very interesting class, and I enjoyed ...</td>\n",
       "    </tr>\n",
       "    <tr>\n",
       "      <th>20</th>\n",
       "      <td>EXPOS-20.134</td>\n",
       "      <td>Spring '14</td>\n",
       "      <td>[u\"The reading material is interesting and cha...</td>\n",
       "      <td>True</td>\n",
       "      <td>4.60</td>\n",
       "      <td>It's a decent amount of reading but the assign...</td>\n",
       "    </tr>\n",
       "    <tr>\n",
       "      <th>22</th>\n",
       "      <td>FRSEMR-38k</td>\n",
       "      <td>Fall '12</td>\n",
       "      <td>[u'An excellent seminar to learn a lot aout fi...</td>\n",
       "      <td>False</td>\n",
       "      <td>4.00</td>\n",
       "      <td>This class will deepen your understanding of s...</td>\n",
       "    </tr>\n",
       "    <tr>\n",
       "      <th>23</th>\n",
       "      <td>FRSEMR-38k</td>\n",
       "      <td>Fall '11</td>\n",
       "      <td>[u'This was the first year the seminar was off...</td>\n",
       "      <td>False</td>\n",
       "      <td>3.42</td>\n",
       "      <td>This class is extremely fun and creatively cha...</td>\n",
       "    </tr>\n",
       "  </tbody>\n",
       "</table>\n",
       "</div>"
      ],
      "text/plain": [
       "          Course  C_Semester                                           Comments Positive  C_Overall                                   Sampled_Comments\n",
       "1   EXPOS-20.132    Fall '14  [u'The class has a fairly high work load, but ...    False       4.10  Unfortunately, I am unlikely to recommend this...\n",
       "2   EXPOS-20.132    Fall '13  [u'Philosophy of the State with Dr. Chen offer...    False       3.50  Philosophy of the State with Dr. Chen offers m...\n",
       "3   EXPOS-20.132    Fall '12  [u'This was by far my favorite course. Dr. Che...    False       3.73  This class is enriching if you do all of the r...\n",
       "4   EXPOS-20.132    Fall '11  [u'Be prepared to read', u'Discussions were gr...    False       3.85  This class is great for anyone interested in l...\n",
       "7   EXPOS-20.133  Spring '14  [u'This is not a bad Expos course. Dr. Chen is...    False       3.90  This class demands a high level of work if you...\n",
       "13  EXPOS-20.131    Fall '14  [u'If you are interested in political philosop...    False       3.80  The preceptor gives good feedback. If you are ...\n",
       "14  EXPOS-20.131    Fall '13  [u'This class involves quite a bit of reading,...    False       3.60  If you are intrigued by tracing the habits and...\n",
       "15  EXPOS-20.131    Fall '12  [u\"A basic, but thorough, understanding of phi...    False       3.86  I feel like I missed a great opportunity on th...\n",
       "16  EXPOS-20.131    Fall '11  [u'It is a great class, which combines develop...     True       4.50  It is a very interesting class, and I enjoyed ...\n",
       "20  EXPOS-20.134  Spring '14  [u\"The reading material is interesting and cha...     True       4.60  It's a decent amount of reading but the assign...\n",
       "22    FRSEMR-38k    Fall '12  [u'An excellent seminar to learn a lot aout fi...    False       4.00  This class will deepen your understanding of s...\n",
       "23    FRSEMR-38k    Fall '11  [u'This was the first year the seminar was off...    False       3.42  This class is extremely fun and creatively cha..."
      ]
     },
     "execution_count": 5,
     "metadata": {},
     "output_type": "execute_result"
    }
   ],
   "source": [
    "subdf.head(12)"
   ]
  },
  {
   "cell_type": "markdown",
   "metadata": {},
   "source": [
    "Now we will convert our comments dataframe, subdf, to a spark dataframe for text analysis"
   ]
  },
  {
   "cell_type": "code",
   "execution_count": 6,
   "metadata": {
    "collapsed": false
   },
   "outputs": [
    {
     "name": "stdout",
     "output_type": "stream",
     "text": [
      "/home/vagrant/spark\n"
     ]
    }
   ],
   "source": [
    "#setup spark\n",
    "import os\n",
    "import findspark\n",
    "findspark.init()\n",
    "print findspark.find()\n",
    "import pyspark\n",
    "conf = (pyspark.SparkConf()\n",
    "    .setMaster('local')\n",
    "    .setAppName('pyspark')\n",
    "    .set(\"spark.executor.memory\", \"2g\"))\n",
    "sc = pyspark.SparkContext(conf=conf)\n",
    "import sys\n",
    "rdd = sc.parallelize(xrange(10),10)\n",
    "rdd.map(lambda x: sys.version).collect()\n",
    "sys.version\n",
    "from pyspark.sql import SQLContext\n",
    "sqlsc=SQLContext(sc)"
   ]
  },
  {
   "cell_type": "code",
   "execution_count": 7,
   "metadata": {
    "collapsed": false
   },
   "outputs": [],
   "source": [
    "from pattern.en import parse\n",
    "from pattern.en import pprint\n",
    "from pattern.vector import stem, PORTER, LEMMA\n",
    "punctuation = list('.,;:!?()[]{}`''\\\"@#$^&*+-|=~_')\n",
    "from sklearn.feature_extraction import text \n",
    "stopwords=text.ENGLISH_STOP_WORDS\n",
    "import re\n",
    "regex1=re.compile(r\"\\.{2,}\")\n",
    "regex2=re.compile(r\"\\-{2,}\")\n",
    "#Useless verbs courtesy of: http://mbweston.com/2012/11/26/writing-editing-find-and-eliminate-useless-verbs/\n",
    "uselessverbs = ['be','is','are','be','was','were','been','being',\n",
    "                'go','goes','went','gone','going','put','puts','putting',\n",
    "                'do','does','did','done','doing',\n",
    "                'come','comes','came','coming',\n",
    "                'have','have','has','had','having',\n",
    "                'can','could','begin','begins','began','begun','beginning',\n",
    "                'seem','seems','seemed','seeming',\n",
    "                'get','got','gotten','getting',\n",
    "                'become','became','becoming']\n",
    "import re\n",
    "regex1=re.compile(r\"\\.{2,}\")\n",
    "regex2=re.compile(r\"\\-{2,}\")"
   ]
  },
  {
   "cell_type": "markdown",
   "metadata": {},
   "source": [
    "We write a get parts function to parse the language in the comments. This customize get_parts function returns lists of the nouns, adjectives and verbs in the comments."
   ]
  },
  {
   "cell_type": "code",
   "execution_count": 8,
   "metadata": {
    "collapsed": true
   },
   "outputs": [],
   "source": [
    "def get_parts(thetext):\n",
    "    thetext=re.sub(regex1, ' ', thetext)\n",
    "    thetext=re.sub(regex2, ' ', thetext)\n",
    "    nouns=[]\n",
    "    descriptives=[]\n",
    "    verbs = []\n",
    "    for i,sentence in enumerate(parse(thetext, tokenize=True, lemmata=True).split()):\n",
    "        nouns.append([])\n",
    "        descriptives.append([])\n",
    "        verbs.append([])\n",
    "        for token in sentence:\n",
    "            #print token\n",
    "            if len(token[4]) >0:\n",
    "                if token[1] in ['JJ', 'JJR', 'JJS']:\n",
    "                    if token[4] in stopwords or token[4][0] in punctuation or token[4][-1] in punctuation or len(token[4])==1:\n",
    "                        continue\n",
    "                    descriptives[i].append(token[4])\n",
    "                elif token[1] in ['NN', 'NNS']:\n",
    "                    if token[4] in stopwords or token[4][0] in punctuation or token[4][-1] in punctuation or len(token[4])==1:\n",
    "                        continue\n",
    "                    nouns[i].append(token[4])\n",
    "                elif token[1] in ['VB','VBP','VBZ','VBG','VBD','VBN']:\n",
    "                    if token[4] in stopwords or token[4] in uselessverbs or token[4][0] in punctuation or token[4][-1] in punctuation or len(token[4])==1:\n",
    "                        continue\n",
    "                    verbs[i].append(token[4])\n",
    "    out=zip(nouns, descriptives,verbs)\n",
    "    nouns2=[]\n",
    "    descriptives2=[]\n",
    "    verbs2 = []\n",
    "    for n,d,v in out:\n",
    "        if len(n)!=0 and len(d)!=0 and len(v)!=0:\n",
    "            nouns2.append(n)\n",
    "            descriptives2.append(d)\n",
    "            verbs2.append(v)\n",
    "    return nouns2, descriptives2, verbs2"
   ]
  },
  {
   "cell_type": "code",
   "execution_count": 9,
   "metadata": {
    "collapsed": false
   },
   "outputs": [
    {
     "name": "stdout",
     "output_type": "stream",
     "text": [
      "+------------+----------+--------+---------+--------------------+\n",
      "|      Course|C_Semester|Positive|C_Overall|    Sampled_Comments|\n",
      "+------------+----------+--------+---------+--------------------+\n",
      "|EXPOS-20.132|  Fall '14|   false|      4.1|Unfortunately, I ...|\n",
      "|EXPOS-20.132|  Fall '13|   false|      3.5|Philosophy of the...|\n",
      "|EXPOS-20.132|  Fall '12|   false|     3.73|This class is enr...|\n",
      "|EXPOS-20.132|  Fall '11|   false|     3.85|This class is gre...|\n",
      "|EXPOS-20.133|Spring '14|   false|      3.9|This class demand...|\n",
      "+------------+----------+--------+---------+--------------------+\n",
      "only showing top 5 rows\n",
      "\n"
     ]
    }
   ],
   "source": [
    "subdf = sqlsc.createDataFrame(subdf)\n",
    "subdf = subdf['Course','C_Semester','Positive', 'C_Overall', 'Sampled_Comments']\n",
    "subdf.show(5)"
   ]
  },
  {
   "cell_type": "code",
   "execution_count": 10,
   "metadata": {
    "collapsed": false
   },
   "outputs": [
    {
     "data": {
      "text/plain": [
       "[([[u'course'],\n",
       "   [u'subject', u'course', u'overall', u'expectation'],\n",
       "   [u'purpose',\n",
       "    u'class',\n",
       "    u'freshman',\n",
       "    u'writing',\n",
       "    u'skill',\n",
       "    u'class',\n",
       "    u'resource',\n",
       "    u'purpose'],\n",
       "   [u'work', u'effort', u'essay'],\n",
       "   [u'essay', u'topic', u'guidance'],\n",
       "   [u'feedback', u'draft', u'draft'],\n",
       "   [u'feedback', u'office', u'hour'],\n",
       "   [u'peer', u'resource', u'guidance', u'class'],\n",
       "   [u'class', u'requirement'],\n",
       "   [u'class', u'work', u'load', u'writer'],\n",
       "   [u'quality', u'instruction', u'course', u'instructor', u'time'],\n",
       "   [u'paper', u'family', u'state']],\n",
       "  [[u'unlikely'],\n",
       "   [u'passionate'],\n",
       "   [u'useful'],\n",
       "   [u'manageable'],\n",
       "   [u'reasonable', u'little'],\n",
       "   [u'vague', u'unhelpful', u'final'],\n",
       "   [u'difficult', u'constructive', u'accessible'],\n",
       "   [u'writing'],\n",
       "   [u'particular'],\n",
       "   [u'high', u'helpful'],\n",
       "   [u'generous'],\n",
       "   [u'final']],\n",
       "  [[u'recommend'],\n",
       "   [u'meet'],\n",
       "   [u'educate', u'provide', u'fulfill'],\n",
       "   [u'relate'],\n",
       "   [u'provide'],\n",
       "   [u'provide'],\n",
       "   [u'ask'],\n",
       "   [u'obtain'],\n",
       "   [u'recommend', u'fulfill'],\n",
       "   [u'help', u'improve'],\n",
       "   [u'receive'],\n",
       "   [u'focuse']])]"
      ]
     },
     "execution_count": 10,
     "metadata": {},
     "output_type": "execute_result"
    }
   ],
   "source": [
    "comment_parts = subdf.rdd.map(lambda r: get_parts(r.Sampled_Comments))\n",
    "comment_parts.take(1)"
   ]
  },
  {
   "cell_type": "code",
   "execution_count": 11,
   "metadata": {
    "collapsed": false
   },
   "outputs": [
    {
     "name": "stdout",
     "output_type": "stream",
     "text": [
      "CPU times: user 177 ms, sys: 54.7 ms, total: 232 ms\n",
      "Wall time: 1min 33s\n"
     ]
    }
   ],
   "source": [
    "%%time\n",
    "parsedcomments=comment_parts.collect()"
   ]
  },
  {
   "cell_type": "markdown",
   "metadata": {},
   "source": [
    "We begin our text analysis with an LDA of the nouns in the comments "
   ]
  },
  {
   "cell_type": "code",
   "execution_count": 12,
   "metadata": {
    "collapsed": false
   },
   "outputs": [
    {
     "data": {
      "text/plain": [
       "[[[u'course'],\n",
       "  [u'subject', u'course', u'overall', u'expectation'],\n",
       "  [u'purpose',\n",
       "   u'class',\n",
       "   u'freshman',\n",
       "   u'writing',\n",
       "   u'skill',\n",
       "   u'class',\n",
       "   u'resource',\n",
       "   u'purpose'],\n",
       "  [u'work', u'effort', u'essay'],\n",
       "  [u'essay', u'topic', u'guidance'],\n",
       "  [u'feedback', u'draft', u'draft'],\n",
       "  [u'feedback', u'office', u'hour'],\n",
       "  [u'peer', u'resource', u'guidance', u'class'],\n",
       "  [u'class', u'requirement'],\n",
       "  [u'class', u'work', u'load', u'writer'],\n",
       "  [u'quality', u'instruction', u'course', u'instructor', u'time'],\n",
       "  [u'paper', u'family', u'state']],\n",
       " [[u'philosophy',\n",
       "   u'stimulating',\n",
       "   u'class',\n",
       "   u'discussion',\n",
       "   u'variety',\n",
       "   u'topic',\n",
       "   u'student',\n",
       "   u'share'],\n",
       "  [u'page', u'entirety', u'work'],\n",
       "  [u'class', u'material', u'experience'],\n",
       "  [u'class'],\n",
       "  [u'lot', u'philosophy', u'professor', u'lot'],\n",
       "  [u'course', u'lot', u'reading', u'writing'],\n",
       "  [u'philosophy', u'state', u'class', u'writing', u'essay', u'college'],\n",
       "  [u'matter', u'society']],\n",
       " [[u'time', u'class', u'lot', u'class', u'discussion'],\n",
       "  [u'kind', u'class'],\n",
       "  [u'decision', u'course'],\n",
       "  [u'teacher'],\n",
       "  [u'reading', u'discussion'],\n",
       "  [u'writing']]]"
      ]
     },
     "execution_count": 12,
     "metadata": {},
     "output_type": "execute_result"
    }
   ],
   "source": [
    "[e[0] for e in parsedcomments[:3]]"
   ]
  },
  {
   "cell_type": "code",
   "execution_count": 13,
   "metadata": {
    "collapsed": false
   },
   "outputs": [
    {
     "data": {
      "text/plain": [
       "[[u'course'],\n",
       " [u'subject', u'course', u'overall', u'expectation'],\n",
       " [u'purpose',\n",
       "  u'class',\n",
       "  u'freshman',\n",
       "  u'writing',\n",
       "  u'skill',\n",
       "  u'class',\n",
       "  u'resource',\n",
       "  u'purpose'],\n",
       " [u'work', u'effort', u'essay'],\n",
       " [u'essay', u'topic', u'guidance']]"
      ]
     },
     "execution_count": 13,
     "metadata": {},
     "output_type": "execute_result"
    }
   ],
   "source": [
    "ldadatardd=sc.parallelize([ele[0] for ele in parsedcomments]).flatMap(lambda l: l)\n",
    "ldadatardd.cache()\n",
    "ldadatardd.take(5)"
   ]
  },
  {
   "cell_type": "code",
   "execution_count": 14,
   "metadata": {
    "collapsed": false
   },
   "outputs": [
    {
     "data": {
      "text/plain": [
       "[u'course', u'subject', u'course', u'overall', u'expectation']"
      ]
     },
     "execution_count": 14,
     "metadata": {},
     "output_type": "execute_result"
    }
   ],
   "source": [
    "ldadatardd.flatMap(lambda word: word).take(5)"
   ]
  },
  {
   "cell_type": "code",
   "execution_count": 15,
   "metadata": {
    "collapsed": true
   },
   "outputs": [],
   "source": [
    "vocabtups = (ldadatardd.flatMap(lambda word: word)\n",
    "             .map(lambda word: (word, 1))\n",
    "             .reduceByKey(lambda a, b: a + b)\n",
    "             .map(lambda (x,y): x)\n",
    "             .zipWithIndex()\n",
    ").cache()"
   ]
  },
  {
   "cell_type": "code",
   "execution_count": 16,
   "metadata": {
    "collapsed": true
   },
   "outputs": [],
   "source": [
    "vocab=vocabtups.collectAsMap()\n",
    "id2word=vocabtups.map(lambda (x,y): (y,x)).collectAsMap()"
   ]
  },
  {
   "cell_type": "code",
   "execution_count": 17,
   "metadata": {
    "collapsed": false
   },
   "outputs": [
    {
     "data": {
      "text/plain": [
       "(u'stuff\\xe2\\u20ac', u'plenary', 5)"
      ]
     },
     "execution_count": 17,
     "metadata": {},
     "output_type": "execute_result"
    }
   ],
   "source": [
    "id2word[0], vocab.keys()[5], vocab[vocab.keys()[5]]"
   ]
  },
  {
   "cell_type": "code",
   "execution_count": 18,
   "metadata": {
    "collapsed": false
   },
   "outputs": [
    {
     "data": {
      "text/plain": [
       "4346"
      ]
     },
     "execution_count": 18,
     "metadata": {},
     "output_type": "execute_result"
    }
   ],
   "source": [
    "len(vocab.keys())"
   ]
  },
  {
   "cell_type": "code",
   "execution_count": 19,
   "metadata": {
    "collapsed": true
   },
   "outputs": [],
   "source": [
    "from collections import defaultdict\n",
    "def helperfunction(element):\n",
    "    d = defaultdict(int)\n",
    "    for k in element:\n",
    "        d[vocab[k]] += 1\n",
    "    return d.items()\n",
    "documents = ldadatardd.map(lambda w: helperfunction(w))"
   ]
  },
  {
   "cell_type": "code",
   "execution_count": 20,
   "metadata": {
    "collapsed": false
   },
   "outputs": [
    {
     "data": {
      "text/plain": [
       "[[(1335, 1)],\n",
       " [(1631, 1), (4179, 1), (604, 1), (1335, 1)],\n",
       " [(2913, 2), (4073, 1), (286, 1), (4314, 2), (3581, 1), (1374, 1)],\n",
       " [(3212, 1), (1125, 1), (1237, 1)],\n",
       " [(1265, 1), (547, 1), (3212, 1)]]"
      ]
     },
     "execution_count": 20,
     "metadata": {},
     "output_type": "execute_result"
    }
   ],
   "source": [
    "documents.take(5)"
   ]
  },
  {
   "cell_type": "code",
   "execution_count": 21,
   "metadata": {
    "collapsed": true
   },
   "outputs": [],
   "source": [
    "corpus=documents.collect()"
   ]
  },
  {
   "cell_type": "code",
   "execution_count": 22,
   "metadata": {
    "collapsed": true
   },
   "outputs": [],
   "source": [
    "import gensim"
   ]
  },
  {
   "cell_type": "code",
   "execution_count": 23,
   "metadata": {
    "collapsed": false
   },
   "outputs": [],
   "source": [
    "lda2 = gensim.models.ldamodel.LdaModel(corpus = corpus, num_topics = 2, id2word=id2word, chunksize=200, passes = 10)"
   ]
  },
  {
   "cell_type": "markdown",
   "metadata": {},
   "source": [
    "Above, we print the topics we find using LDA."
   ]
  },
  {
   "cell_type": "code",
   "execution_count": 24,
   "metadata": {
    "collapsed": false
   },
   "outputs": [
    {
     "data": {
      "text/plain": [
       "[(0,\n",
       "  u'0.116*course + 0.059*class + 0.034*material + 0.030*student + 0.027*way + 0.019*professor + 0.018*fun + 0.017*topic + 0.016*reading + 0.015*language'),\n",
       " (1,\n",
       "  u'0.099*class + 0.052*lot + 0.041*time + 0.030*work + 0.029*lecture + 0.017*problem + 0.016*experience + 0.014*week + 0.013*research + 0.013*semester')]"
      ]
     },
     "execution_count": 24,
     "metadata": {},
     "output_type": "execute_result"
    }
   ],
   "source": [
    "lda2.print_topics()"
   ]
  },
  {
   "cell_type": "markdown",
   "metadata": {},
   "source": [
    "The first topic (let us call this Topic 0) includes the combination of words: \n",
    "\n",
    "- class, lot, time, work, way, professor, problem, section, exam, and fun.\n",
    "\n",
    "\n",
    "The second topic (let us call this Topic 1) includes the following combination of words: \n",
    "\n",
    "- course, material, lecture, student, topic, reading, person, science, year, and lecturer.\n",
    "\n",
    "\n",
    "Topic 0 seems to encompass the more interactive, qualitative, personable aspects of the course with key terms including class, professor, problem, section, and fun. Topic 1, by contrast, seems to encompass the more solitary, logistical, factual aspects of a course that a student experiences with key terms including material, lecture, student, topic, reading, year, and lecturer. One thing worth noticing is that Topic 1 includes \"course\" as a key term while Topic 0 includes \"class\". While \"course\" and \"class\" are often used interchangably in language, \"class\" arguably connotes a more personal, interactive experience than \"course\", which is more administrative and logistical and more likely to be used as an umbrella term for everything from everyday class to homework. This would support our separation of Topic 0 and 1 into more interactive/personable aspects and more logistical/solitary aspects, respectively.\n",
    "\n",
    "In order to further evaluate our intial hypothesis that course reviews are split along two topics (interactive, qualitiative, personable aspects v. solitary, logistical aspects), we will output the words of some sentences, along with the probability of the sentence belonging to Topic 0 and Topic 1, to qualitatively check that our topics are reasonable and supported."
   ]
  },
  {
   "cell_type": "code",
   "execution_count": 25,
   "metadata": {
    "collapsed": false
   },
   "outputs": [
    {
     "name": "stdout",
     "output_type": "stream",
     "text": [
      "[(1335, 1)]\n",
      "[(0, 0.74999495044208775), (1, 0.25000504955791225)]\n",
      "course\n",
      "==========================================\n",
      "[(1089, 1), (110, 1), (1136, 1), (2545, 1), (4314, 1), (1658, 1)]\n",
      "[(0, 0.91166525699849754), (1, 0.088334743001502417)]\n",
      "text study thinker number class college\n",
      "==========================================\n",
      "[(2908, 1), (701, 1)]\n",
      "[(0, 0.4965494261507073), (1, 0.5034505738492927)]\n",
      "assignment gen-ed\n",
      "==========================================\n",
      "[(1675, 1), (1335, 1)]\n",
      "[(0, 0.83323075065139618), (1, 0.16676924934860379)]\n",
      "reading course\n",
      "==========================================\n",
      "[(4314, 1), (3002, 1), (286, 1)]\n",
      "[(0, 0.14123308781169094), (1, 0.85876691218830914)]\n",
      "class essential writing\n",
      "==========================================\n",
      "[(1186, 1), (1675, 1), (3532, 1), (1807, 1), (2742, 1), (2873, 1), (2013, 1)]\n",
      "[(0, 0.44147199121428576), (1, 0.55852800878571418)]\n",
      "history reading day week art fun lot\n",
      "==========================================\n",
      "[(3749, 1), (1833, 1), (2514, 1), (1140, 1), (2741, 1), (1335, 1), (1844, 1), (4314, 1), (3166, 1)]\n",
      "[(0, 0.461569947218754), (1, 0.538430052781246)]\n",
      "fact model beginning econ set course rest class department\n",
      "==========================================\n",
      "[(1047, 1)]\n",
      "[(0, 0.25001004881275141), (1, 0.74998995118724865)]\n",
      "time\n",
      "==========================================\n",
      "[(3749, 1), (807, 1), (1047, 1), (2542, 1), (336, 1), (1335, 2), (953, 1), (2013, 1)]\n",
      "[(0, 0.74904480299574727), (1, 0.25095519700425262)]\n",
      "fact psych time feel taught course way lot\n",
      "==========================================\n",
      "[(3121, 1), (2482, 1), (1047, 1), (2013, 1), (1335, 1)]\n",
      "[(0, 0.57479314672232462), (1, 0.42520685327767538)]\n",
      "exploration event time lot course\n",
      "==========================================\n",
      "[(2472, 1), (4314, 1)]\n",
      "[(0, 0.7565421849334214), (1, 0.2434578150665786)]\n",
      "idea class\n",
      "==========================================\n",
      "[(4314, 1), (4045, 1), (2013, 1), (814, 1), (1454, 1)]\n",
      "[(0, 0.28042588571020527), (1, 0.71957411428979479)]\n",
      "class boring lot expos person\n",
      "==========================================\n",
      "[(1454, 1), (3463, 1)]\n",
      "[(0, 0.83326928744082573), (1, 0.16673071255917424)]\n",
      "person philosophy\n",
      "==========================================\n",
      "[(4073, 1), (4314, 2), (1891, 2), (507, 1)]\n",
      "[(0, 0.66303419620795201), (1, 0.33696580379204794)]\n",
      "skill class world professor\n",
      "==========================================\n",
      "[(832, 1), (2311, 1), (713, 1), (619, 1), (140, 1), (499, 1), (539, 1)]\n",
      "[(0, 0.64436303706697651), (1, 0.35563696293302344)]\n",
      "grounding science subfield approach unit coin range\n",
      "==========================================\n",
      "[(2264, 1), (4314, 1), (3244, 1)]\n",
      "[(0, 0.13302727766657482), (1, 0.86697272233342515)]\n",
      "semester class schedule\n",
      "==========================================\n",
      "[(2153, 1), (4268, 1), (444, 1), (2574, 1), (1335, 2)]\n",
      "[(0, 0.64463976645522714), (1, 0.35536023354477286)]\n",
      "case problem matter assumption course\n",
      "==========================================\n",
      "[(3463, 1), (808, 1), (1775, 1), (1170, 1), (3349, 1), (1237, 1)]\n",
      "[(0, 0.40076882990530488), (1, 0.59923117009469506)]\n",
      "philosophy farther canon teacher writer effort\n",
      "==========================================\n",
      "[(953, 1), (1186, 1), (3523, 1), (3957, 1), (1335, 1)]\n",
      "[(0, 0.74602373040196535), (1, 0.25397626959803471)]\n",
      "way history practice value course\n",
      "==========================================\n",
      "[(2632, 1), (2623, 1), (2311, 1)]\n",
      "[(0, 0.63574213025157489), (1, 0.36425786974842517)]\n",
      "lit option science\n",
      "==========================================\n"
     ]
    }
   ],
   "source": [
    "for bow in corpus[0:1200:60]:\n",
    "    print bow\n",
    "    print lda2.get_document_topics(bow)\n",
    "    print \" \".join([id2word[e[0]] for e in bow])\n",
    "    print \"==========================================\""
   ]
  },
  {
   "cell_type": "markdown",
   "metadata": {},
   "source": [
    "The \"sentences\" (or bag-of-words) which have a much greater probability of belonging to Topic 0 include:\n",
    "- class writer load work\n",
    "- class bit pass work\n",
    "- class cost intervention u'very benefit reform lot issue\n",
    "- class student success belief stand risk course question ability\n",
    "- class kink\n",
    "- way professor class discussion material\n",
    "- food professor person class\n",
    "- class section discussion student\n",
    "- time homework week\n",
    "\n",
    "The words in these sentences are more descriptive and relate to more creative, interactive, person-to-person aspects of a course. Specifically, \"writer\", \"intervention\", \"reform\", \"issue\", \"success\", \"belief\", \"stand\", \"risk\", \"question\", \"kink\", and \"discussion\" all imply rich and diverse elements of the course experience. As a Harvard student, I know that the word \"section\" also implies discussion and collaboration since sections for Harvard classes provide an opportunity outside of lecture to engage more closely with course material and consist of tight-knit groups.\n",
    "\n",
    "\n",
    "The \"setences\" which have a much greater probability of belonging to Topic 1 include:\n",
    "- concept background\n",
    "- reading\n",
    "- thought-provoking discussion debate material staff teaching\n",
    "\n",
    "The function below transforms X-col (which consists of word-based \"sentences\" (bag-of-words or \"documents\")) using the vectorizer which is also a parameter.\n",
    "- time bit course u\"must\n",
    "- career course regret\n",
    "- education perspective lot debate history\n",
    "\n",
    "Words in these sentences that are not present in the previous cluster of setences and that stand out as implying more impersonal, logistical, or practical aspects of a course include \"concept\", \"background\", \"reading\", \"material\", \"time\", \"must\", \"education\", \"history\", and arguably \"staff\" (since \"staff\" is a somewhat impersonal way to refer to professors and teaching fellows). Although words like \"thought-provoking\", \"discussion\", \"debate\" and \"teaching\" do appear, it is worthwhile to note that the sentence/bag-of-words in which they appear still has a relatively high probability of belonging to Topic 0 (~35%).\n",
    "\n",
    "The \"sentences\" which have more equal probabilities of belonging to Topic 0 or 1 include:\n",
    "- time assignment philosophy night\n",
    "- course lot\n",
    "- chance education course lot style\n",
    "- student reason\n",
    "- way class overview study\n",
    "\n",
    "For sentences/bag-of-words with relatively equal probabilities of belonging to Topic 0 and Topic 1, we can observe both words implying more interactive, creative aspects (\"philosophy\", \"style\", \"student\", \"reason\") and words implying more logistical aspects (\"time\", \"assignment\", \"overview\", \"study\").\n",
    "\n",
    "\n",
    "From our analysis of the topic probabilities and bag-of-words above, there appears to be evidence to support our initial hypothesis that course reviews are split along two topics: Topic 0, which includes more interactive, qualitative, personable aspects of a course, and Topic 1, which includes more solitary, logistical aspects."
   ]
  },
  {
   "cell_type": "markdown",
   "metadata": {},
   "source": [
    "TO DOs:\n",
    "- We can consider doing \"verbs\" (use TextBlob)\n",
    "- Detect \"not\" before adjectives, this shouldn't be too difficult\n",
    "- Text before pushing\n",
    "- Look at differences across departments (Jesse/Andrew)\n"
   ]
  },
  {
   "cell_type": "markdown",
   "metadata": {
    "collapsed": true
   },
   "source": [
    "Let us now continue with a sentiment analysis of the adjectives in the comments using Naive Bayes. We begin by extracting the adjectives as we did before with the nouns. "
   ]
  },
  {
   "cell_type": "code",
   "execution_count": 26,
   "metadata": {
    "collapsed": false
   },
   "outputs": [
    {
     "data": {
      "text/plain": [
       "[[[u'unlikely'],\n",
       "  [u'passionate'],\n",
       "  [u'useful'],\n",
       "  [u'manageable'],\n",
       "  [u'reasonable', u'little'],\n",
       "  [u'vague', u'unhelpful', u'final'],\n",
       "  [u'difficult', u'constructive', u'accessible'],\n",
       "  [u'writing'],\n",
       "  [u'particular'],\n",
       "  [u'high', u'helpful'],\n",
       "  [u'generous'],\n",
       "  [u'final']],\n",
       " [[u'wide', u'fellow', u'similar'],\n",
       "  [u'difficult', u'unnecessary'],\n",
       "  [u'potential', u'interesting'],\n",
       "  [u'difficult', u'accurate'],\n",
       "  [u'interesting', u'great'],\n",
       "  [u'critical'],\n",
       "  [u'difficult', u'better'],\n",
       "  [u'subject', u'interesting']],\n",
       " [[u'large', u'outside', u'classic'],\n",
       "  [u'little', u'overwhelming'],\n",
       "  [u'rewarding'],\n",
       "  [u'tough', u'fantastic'],\n",
       "  [u'dense', u'interesting'],\n",
       "  [u'overwhelmed']]]"
      ]
     },
     "execution_count": 26,
     "metadata": {},
     "output_type": "execute_result"
    }
   ],
   "source": [
    "nbdatardd=sc.parallelize([ele[1] for ele in parsedcomments])\n",
    "nbdatardd.cache()\n",
    "nbdatardd.take(3)"
   ]
  },
  {
   "cell_type": "code",
   "execution_count": 27,
   "metadata": {
    "collapsed": true
   },
   "outputs": [],
   "source": [
    "adjvocabtups = (nbdatardd.flatMap(lambda l: l).flatMap(lambda word: word)\n",
    "             .map(lambda word: (word, 1))\n",
    "             .reduceByKey(lambda a, b: a + b)\n",
    "             .map(lambda (x,y): x)\n",
    "             .zipWithIndex()\n",
    ").cache()\n",
    "adjvocab=adjvocabtups.collectAsMap()"
   ]
  },
  {
   "cell_type": "code",
   "execution_count": 28,
   "metadata": {
    "collapsed": false
   },
   "outputs": [
    {
     "data": {
      "text/plain": [
       "3097"
      ]
     },
     "execution_count": 28,
     "metadata": {},
     "output_type": "execute_result"
    }
   ],
   "source": [
    "len(adjvocab)"
   ]
  },
  {
   "cell_type": "markdown",
   "metadata": {},
   "source": [
    "Now we need to flatten the all of the adjectives for a particular semester of comments of a course into a single document and then make an array of these documents for get our adjective \"features\" and retrieve our response array, comprised of the positive column of our subdf, as this is the response variable we are trying to predict. The length of these two arrays should be equal if we do this correctly"
   ]
  },
  {
   "cell_type": "code",
   "execution_count": 29,
   "metadata": {
    "collapsed": false
   },
   "outputs": [],
   "source": [
    "import itertools\n",
    "Xarraypre=nbdatardd.map(lambda l: \" \".join(list(itertools.chain.from_iterable(l))))\n",
    "Xarray=Xarraypre.collect()\n",
    "resparray = subdf.rdd.map(lambda r: r.Positive).collect()"
   ]
  },
  {
   "cell_type": "code",
   "execution_count": 30,
   "metadata": {
    "collapsed": false
   },
   "outputs": [
    {
     "data": {
      "text/plain": [
       "(3256, 3256)"
      ]
     },
     "execution_count": 30,
     "metadata": {},
     "output_type": "execute_result"
    }
   ],
   "source": [
    "len(Xarray), len(resparray)"
   ]
  },
  {
   "cell_type": "markdown",
   "metadata": {},
   "source": [
    "Next we use mask to create a train and test split."
   ]
  },
  {
   "cell_type": "code",
   "execution_count": 31,
   "metadata": {
    "collapsed": false
   },
   "outputs": [],
   "source": [
    "from sklearn.cross_validation import train_test_split\n",
    "itrain, itest = train_test_split(xrange(len(Xarray)), train_size=0.7)\n",
    "mask=np.ones(len(Xarray), dtype='int')\n",
    "mask[itrain]=1\n",
    "mask[itest]=0\n",
    "mask = (mask==1)"
   ]
  },
  {
   "cell_type": "markdown",
   "metadata": {},
   "source": [
    "We then transform the adjectives into a bag of words representation and use a vectorizer to create a feature and write some support functions for Naive Bayes analysis. "
   ]
  },
  {
   "cell_type": "code",
   "execution_count": 32,
   "metadata": {
    "collapsed": true
   },
   "outputs": [],
   "source": [
    "def make_xy(X_col, y_col, vectorizer):\n",
    "    X = vectorizer.fit_transform(X_col)\n",
    "    y = y_col\n",
    "    return X, y"
   ]
  },
  {
   "cell_type": "markdown",
   "metadata": {},
   "source": [
    "We plan on using log-likelyhood as a scoring metric and write a support function to be able to do so"
   ]
  },
  {
   "cell_type": "code",
   "execution_count": 33,
   "metadata": {
    "collapsed": true
   },
   "outputs": [],
   "source": [
    "def log_likelihood(clf, x, y):\n",
    "    prob = clf.predict_log_proba(x)\n",
    "    negatives = y == False\n",
    "    positives = ~negatives\n",
    "    return prob[negatives, False].sum() + prob[positives, True].sum()"
   ]
  },
  {
   "cell_type": "markdown",
   "metadata": {},
   "source": [
    "We define a function to estimate the cross-validated score (given a classifier, data, and a scoring function)."
   ]
  },
  {
   "cell_type": "code",
   "execution_count": 34,
   "metadata": {
    "collapsed": true
   },
   "outputs": [],
   "source": [
    "from sklearn.cross_validation import KFold\n",
    "\n",
    "def cv_score(clf, x, y, score_func, nfold=5):\n",
    "    \"\"\"\n",
    "    Uses 5-fold cross validation to estimate a score of a classifier\n",
    "    \n",
    "    Inputs\n",
    "    ------\n",
    "    clf : Classifier object\n",
    "    x : Input feature vector\n",
    "    y : Input class labels\n",
    "    score_func : Function like log_likelihood, that takes (clf, x, y) as input,\n",
    "                 and returns a score\n",
    "                 \n",
    "    Returns\n",
    "    -------\n",
    "    The average score obtained by splitting (x, y) into 5 folds of training and \n",
    "    test sets, fitting on the training set, and evaluating score_func on the test set\n",
    "    \n",
    "    Examples\n",
    "    cv_score(clf, x, y, log_likelihood)\n",
    "    \"\"\"\n",
    "    result = 0\n",
    "    for train, test in KFold(y.size, nfold): # split data into train/test groups, 5 times\n",
    "        clf.fit(x[train], y[train]) # fit\n",
    "        result += score_func(clf, x[test], y[test]) # evaluate score function on held-out data\n",
    "    return result / nfold # average"
   ]
  },
  {
   "cell_type": "markdown",
   "metadata": {},
   "source": [
    "We also define a usseful function for visualizing the calibration of a probabilistic classifier (in order to recognize whether our classifier is over-confident or under-confident)."
   ]
  },
  {
   "cell_type": "code",
   "execution_count": 35,
   "metadata": {
    "collapsed": true
   },
   "outputs": [],
   "source": [
    "def calibration_plot(clf, xtest, ytest):\n",
    "    prob = clf.predict_proba(xtest)[:, 1]\n",
    "    outcome = ytest\n",
    "    data = pd.DataFrame(dict(prob=prob, outcome=outcome))\n",
    "\n",
    "    #group outcomes into bins of similar probability\n",
    "    bins = np.linspace(0, 1, 20)\n",
    "    cuts = pd.cut(prob, bins)\n",
    "    binwidth = bins[1] - bins[0]\n",
    "    \n",
    "    #freshness ratio and number of examples in each bin\n",
    "    cal = data.groupby(cuts).outcome.agg(['mean', 'count'])\n",
    "    cal['pmid'] = (bins[:-1] + bins[1:]) / 2\n",
    "    cal['sig'] = np.sqrt(cal.pmid * (1 - cal.pmid) / cal['count'])\n",
    "        \n",
    "    #the calibration plot\n",
    "    ax = plt.subplot2grid((3, 1), (0, 0), rowspan=2)\n",
    "    p = plt.errorbar(cal.pmid, cal['mean'], cal['sig'])\n",
    "    plt.plot(cal.pmid, cal.pmid, linestyle='--', lw=1, color='k')\n",
    "    plt.ylabel(\"Empirical P(+)\")\n",
    "    \n",
    "    #the distribution of P(+)\n",
    "    ax = plt.subplot2grid((3, 1), (2, 0), sharex=ax)\n",
    "    \n",
    "    plt.bar(left=cal.pmid - binwidth / 2, height=cal['count'],\n",
    "            width=.95 * (bins[1] - bins[0]),\n",
    "            fc=p[0].get_color())\n",
    "    \n",
    "    plt.xlabel(\"Predicted P(+)\")\n",
    "    plt.ylabel(\"Number\")"
   ]
  },
  {
   "cell_type": "code",
   "execution_count": 36,
   "metadata": {
    "collapsed": true
   },
   "outputs": [],
   "source": [
    "from sklearn.feature_extraction.text import CountVectorizer\n",
    "from sklearn.naive_bayes import MultinomialNB"
   ]
  },
  {
   "cell_type": "markdown",
   "metadata": {},
   "source": [
    "We convert Xarray and Resparray into numpy arrays for use with sklearn"
   ]
  },
  {
   "cell_type": "code",
   "execution_count": 37,
   "metadata": {
    "collapsed": true
   },
   "outputs": [],
   "source": [
    "X=np.array(Xarray)\n",
    "y=np.array(resparray)"
   ]
  },
  {
   "cell_type": "markdown",
   "metadata": {},
   "source": [
    "Now we write a cross-validation loop to find the best hyper-parameters for our Naive Bayes analysis."
   ]
  },
  {
   "cell_type": "code",
   "execution_count": 38,
   "metadata": {
    "collapsed": false
   },
   "outputs": [],
   "source": [
    "#the grid of parameters to search over\n",
    "alphas = [0, .1, 1, 5, 10, 50]\n",
    "min_dfs = [1e-5, 1e-4, 1e-3, 1e-2, 1e-1]\n",
    "\n",
    "#Find the best value for alpha and min_df, and the best classifier\n",
    "best_alpha = None\n",
    "best_min_df = None\n",
    "maxscore=-np.inf\n",
    "for alpha in alphas:\n",
    "    for min_df in min_dfs:         \n",
    "        vectorizer = CountVectorizer(vocabulary = adjvocab, min_df = min_df)       \n",
    "        Xthis, ythis = make_xy(X, y, vectorizer)\n",
    "        Xtrainthis=Xthis[mask]\n",
    "        ytrainthis=ythis[mask]\n",
    "        clf = MultinomialNB(alpha=alpha)\n",
    "        cvscore = cv_score(clf, Xtrainthis, ytrainthis, log_likelihood)\n",
    "        if cvscore > maxscore:\n",
    "            maxscore = cvscore\n",
    "            best_alpha, best_min_df = alpha, min_df"
   ]
  },
  {
   "cell_type": "code",
   "execution_count": 39,
   "metadata": {
    "collapsed": false
   },
   "outputs": [
    {
     "name": "stdout",
     "output_type": "stream",
     "text": [
      "alpha: 50.000000\n",
      "min_df: 0.000010\n"
     ]
    }
   ],
   "source": [
    "print \"alpha: %f\" % best_alpha\n",
    "print \"min_df: %f\" % best_min_df"
   ]
  },
  {
   "cell_type": "markdown",
   "metadata": {},
   "source": [
    "Now that we have determined the best parameters, we are ready to run the Naive Bayes classifier and create a calibration plot. "
   ]
  },
  {
   "cell_type": "code",
   "execution_count": 40,
   "metadata": {
    "collapsed": false
   },
   "outputs": [
    {
     "name": "stdout",
     "output_type": "stream",
     "text": [
      "Accuracy on training data: 0.70\n",
      "Accuracy on test data:     0.66\n"
     ]
    },
    {
     "data": {
      "image/png": "[encoded data removed]",
      "text/plain": [
       "<matplotlib.figure.Figure at 0x7f312fd5bed0>"
      ]
     },
     "metadata": {},
     "output_type": "display_data"
    }
   ],
   "source": [
    "vectorizer = CountVectorizer(vocabulary = adjvocab, min_df=best_min_df)\n",
    "X2, y2 = make_xy(X, y, vectorizer)\n",
    "xtrain=X2[mask]\n",
    "ytrain=y2[mask]\n",
    "xtest=X2[~mask]\n",
    "ytest=y2[~mask]\n",
    "\n",
    "clf = MultinomialNB(alpha=best_alpha).fit(xtrain, ytrain)\n",
    "\n",
    "# Your code here. Print the accuracy on the test and training dataset\n",
    "training_accuracy = clf.score(xtrain, ytrain)\n",
    "test_accuracy = clf.score(xtest, ytest)\n",
    "\n",
    "print \"Accuracy on training data: %0.2f\" % (training_accuracy)\n",
    "print \"Accuracy on test data:     %0.2f\" % (test_accuracy)\n",
    "calibration_plot(clf, xtest, ytest)"
   ]
  },
  {
   "cell_type": "code",
   "execution_count": 41,
   "metadata": {
    "collapsed": false
   },
   "outputs": [
    {
     "data": {
      "text/plain": [
       "[[[u'recommend'],\n",
       "  [u'meet'],\n",
       "  [u'educate', u'provide', u'fulfill'],\n",
       "  [u'relate'],\n",
       "  [u'provide'],\n",
       "  [u'provide'],\n",
       "  [u'ask'],\n",
       "  [u'obtain'],\n",
       "  [u'recommend', u'fulfill'],\n",
       "  [u'help', u'improve'],\n",
       "  [u'receive'],\n",
       "  [u'focuse']],\n",
       " [[u'offer', u'cover'],\n",
       "  [u'work', u'read', u'engage'],\n",
       "  [u'excite', u'think', u'make', u'disappoint'],\n",
       "  [u'rumore'],\n",
       "  [u'learn', u'expect'],\n",
       "  [u'want', u'learn'],\n",
       "  [u'make'],\n",
       "  [u'make', u'think', u'live']],\n",
       " [[u'expect', u'devote', u'read', u'prepare', u'contribute'],\n",
       "  [u'intimidate', u'read', u'grow'],\n",
       "  [u'validate'],\n",
       "  [u'care'],\n",
       "  [u'read', u'force', u'think'],\n",
       "  [u'learn', u'improve']]]"
      ]
     },
     "execution_count": 41,
     "metadata": {},
     "output_type": "execute_result"
    }
   ],
   "source": [
    "nbdatardd_verbs=sc.parallelize([ele[2] for ele in parsedcomments])\n",
    "nbdatardd_verbs.cache()\n",
    "nbdatardd_verbs.take(3)"
   ]
  },
  {
   "cell_type": "code",
   "execution_count": 42,
   "metadata": {
    "collapsed": true
   },
   "outputs": [],
   "source": [
    "verbvocabtups = (nbdatardd_verbs.flatMap(lambda l: l).flatMap(lambda word: word)\n",
    "             .map(lambda word: (word, 1))\n",
    "             .reduceByKey(lambda a, b: a + b)\n",
    "             .map(lambda (x,y): x)\n",
    "             .zipWithIndex()\n",
    ").cache()\n",
    "verbvocab=verbvocabtups.collectAsMap()"
   ]
  },
  {
   "cell_type": "code",
   "execution_count": 43,
   "metadata": {
    "collapsed": false
   },
   "outputs": [],
   "source": [
    "#the grid of parameters to search over\n",
    "alphas = [0, .1, 1, 5, 10, 50]\n",
    "min_dfs = [1e-5, 1e-4, 1e-3, 1e-2, 1e-1]\n",
    "\n",
    "#Find the best value for alpha and min_df, and the best classifier\n",
    "best_alpha = None\n",
    "best_min_df = None\n",
    "maxscore=-np.inf\n",
    "for alpha in alphas:\n",
    "    for min_df in min_dfs:         \n",
    "        vectorizer = CountVectorizer(vocabulary = verbvocab, min_df = min_df)       \n",
    "        Xthis, ythis = make_xy(X, y, vectorizer)\n",
    "        Xtrainthis=Xthis[mask]\n",
    "        ytrainthis=ythis[mask]\n",
    "        clf = MultinomialNB(alpha=alpha)\n",
    "        cvscore = cv_score(clf, Xtrainthis, ytrainthis, log_likelihood)\n",
    "        if cvscore > maxscore:\n",
    "            maxscore = cvscore\n",
    "            best_alpha, best_min_df = alpha, min_df"
   ]
  },
  {
   "cell_type": "code",
   "execution_count": 44,
   "metadata": {
    "collapsed": false
   },
   "outputs": [
    {
     "name": "stdout",
     "output_type": "stream",
     "text": [
      "alpha: 50.000000\n",
      "min_df: 0.000010\n"
     ]
    }
   ],
   "source": [
    "print \"alpha: %f\" % best_alpha\n",
    "print \"min_df: %f\" % best_min_df"
   ]
  },
  {
   "cell_type": "code",
   "execution_count": 45,
   "metadata": {
    "collapsed": false
   },
   "outputs": [
    {
     "name": "stdout",
     "output_type": "stream",
     "text": [
      "Accuracy on training data: 0.62\n",
      "Accuracy on test data:     0.60\n"
     ]
    },
    {
     "data": {
      "image/png": "[encoded data removed]",
      "text/plain": [
       "<matplotlib.figure.Figure at 0x7f312fd87150>"
      ]
     },
     "metadata": {},
     "output_type": "display_data"
    }
   ],
   "source": [
    "vectorizer = CountVectorizer(vocabulary = verbvocab, min_df=best_min_df)\n",
    "X2, y2 = make_xy(X, y, vectorizer)\n",
    "xtrain=X2[mask]\n",
    "ytrain=y2[mask]\n",
    "xtest=X2[~mask]\n",
    "ytest=y2[~mask]\n",
    "\n",
    "clf = MultinomialNB(alpha=best_alpha).fit(xtrain, ytrain)\n",
    "\n",
    "# Your code here. Print the accuracy on the test and training dataset\n",
    "training_accuracy = clf.score(xtrain, ytrain)\n",
    "test_accuracy = clf.score(xtest, ytest)\n",
    "\n",
    "print \"Accuracy on training data: %0.2f\" % (training_accuracy)\n",
    "print \"Accuracy on test data:     %0.2f\" % (test_accuracy)\n",
    "calibration_plot(clf, xtest, ytest)"
   ]
  },
  {
   "cell_type": "markdown",
   "metadata": {},
   "source": [
    "Explain..."
   ]
  },
  {
   "cell_type": "markdown",
   "metadata": {
    "collapsed": true
   },
   "source": [
    "As we have learned from our text analysis that adjectives provide the most useful information in distinguishing positive reviews from negative ones, let us proceed to observe what descriptives are generally found in the q comments of the best rated courses and the worst rated courses to get an idea of what words describe the best and worst courses at Harvard according to q scores. We begin by creating a subdf2, a spark data frame derived from this dataframe that we can use for this type of text analysis."
   ]
  },
  {
   "cell_type": "markdown",
   "metadata": {},
   "source": [
    "We begin this process by making two dataframes, Pos_df and Neg_df, which are essentially just dataframes of the positively and negatively rated courses as defined by our criteria that positively rated courses are those that have an overall Q score higher than the average overall Q of the semester in which the rating was given and negatively rated reviews are those with an overall Q score lower than the average overall Q of the semester. We begin this analysis by extracting the most commonly used adjectives in the comments of positively rated courses and the most commonly used adjectives in the comments of negatively rated courses."
   ]
  },
  {
   "cell_type": "code",
   "execution_count": 48,
   "metadata": {
    "collapsed": false
   },
   "outputs": [],
   "source": [
    "Posdf = subdf[subdf['Positive'] == True]\n",
    "Negdf = subdf[subdf['Positive'] == False]"
   ]
  },
  {
   "cell_type": "markdown",
   "metadata": {},
   "source": [
    "Now we extract the adjectives in the positive and negative reviews. "
   ]
  },
  {
   "cell_type": "code",
   "execution_count": 49,
   "metadata": {
    "collapsed": true
   },
   "outputs": [],
   "source": [
    "%%time\n",
    "Positive_comment_parts = Posdf.rdd.map(lambda r: get_parts(r.Sampled_Comments)).collect()\n",
    "Negative_comment_parts = Negdf.rdd.map(lambda r: get_parts(r.Sampled_Comments)).collect()"
   ]
  },
  {
   "cell_type": "markdown",
   "metadata": {},
   "source": [
    "Let us take a look at the sample of the adjectives in the negatively rated courses and positively rated courses."
   ]
  },
  {
   "cell_type": "code",
   "execution_count": 50,
   "metadata": {
    "collapsed": false
   },
   "outputs": [
    {
     "data": {
      "text/plain": [
       "[[[u'unlikely'],\n",
       "  [u'passionate'],\n",
       "  [u'useful'],\n",
       "  [u'manageable'],\n",
       "  [u'reasonable', u'little'],\n",
       "  [u'vague', u'unhelpful', u'final'],\n",
       "  [u'difficult', u'constructive', u'accessible'],\n",
       "  [u'writing'],\n",
       "  [u'particular'],\n",
       "  [u'high', u'helpful'],\n",
       "  [u'generous'],\n",
       "  [u'final']],\n",
       " [[u'wide', u'fellow', u'similar'],\n",
       "  [u'difficult', u'unnecessary'],\n",
       "  [u'potential', u'interesting'],\n",
       "  [u'difficult', u'accurate'],\n",
       "  [u'interesting', u'great'],\n",
       "  [u'critical'],\n",
       "  [u'difficult', u'better'],\n",
       "  [u'subject', u'interesting']],\n",
       " [[u'large', u'outside', u'classic'],\n",
       "  [u'little', u'overwhelming'],\n",
       "  [u'rewarding'],\n",
       "  [u'tough', u'fantastic'],\n",
       "  [u'dense', u'interesting'],\n",
       "  [u'overwhelmed']]]"
      ]
     },
     "execution_count": 50,
     "metadata": {},
     "output_type": "execute_result"
    }
   ],
   "source": [
    "negativeadjrdd=sc.parallelize([ele[1] for ele in Negative_comment_parts])\n",
    "negativeadjrdd.cache()\n",
    "negativeadjrdd.take(3)"
   ]
  },
  {
   "cell_type": "code",
   "execution_count": 52,
   "metadata": {
    "collapsed": false
   },
   "outputs": [
    {
     "data": {
      "text/plain": [
       "[[[u'interesting', u'political'],\n",
       "  [u'close', u'difficult'],\n",
       "  [u'greater'],\n",
       "  [u'difficult', u'expository', u'better'],\n",
       "  [u'high'],\n",
       "  [u'willing'],\n",
       "  [u'enjoyable', u'best', u'civil'],\n",
       "  [u'political', u'daily', u'read'],\n",
       "  [u'great', u'main', u'valuable'],\n",
       "  [u'helpful', u'helpful'],\n",
       "  [u'aware'],\n",
       "  [u'wee', u'lengthy'],\n",
       "  [u'important'],\n",
       "  [u'excellent', u'great']],\n",
       " [[u'outstanding'],\n",
       "  [u'interesting', u'sophisticated', u'engaging'],\n",
       "  [u'involved', u'heavy'],\n",
       "  [u'useful'],\n",
       "  [u'interesting', u'willing'],\n",
       "  [u'fantastic', u'hard', u'good', u'useful'],\n",
       "  [u'section', u'great'],\n",
       "  [u'pretty']],\n",
       " [[u'challenging', u'q-guide', u'selective', u'overhyped'],\n",
       "  [u'necessary'],\n",
       "  [u'substantial'],\n",
       "  [u'possible'],\n",
       "  [u'incredible'],\n",
       "  [u'stop'],\n",
       "  [u'relevant', u'successful'],\n",
       "  [u'educational'],\n",
       "  [u'effective']]]"
      ]
     },
     "execution_count": 52,
     "metadata": {},
     "output_type": "execute_result"
    }
   ],
   "source": [
    "positiveadjrdd=sc.parallelize([ele[1] for ele in Positive_comment_parts])\n",
    "positiveadjrdd.cache()\n",
    "positiveadjrdd.take(3)"
   ]
  },
  {
   "cell_type": "markdown",
   "metadata": {},
   "source": [
    "Let us now retrieve the top 20 descriptives for the negatively rated and positively rated reviews using some flattening and a spark word count algorithm. We can also create wordle visualizations to help us better observe the distinctions between the descriptives of positively and negatively rated words."
   ]
  },
  {
   "cell_type": "code",
   "execution_count": 62,
   "metadata": {
    "collapsed": false
   },
   "outputs": [
    {
     "data": {
      "text/plain": [
       "[(u'great', 1144),\n",
       " (u'interesting', 1086),\n",
       " (u'good', 831),\n",
       " (u'interested', 435),\n",
       " (u'difficult', 433),\n",
       " (u'final', 308),\n",
       " (u'little', 290),\n",
       " (u'sure', 271),\n",
       " (u'helpful', 265),\n",
       " (u'easy', 261),\n",
       " (u'different', 238),\n",
       " (u'useful', 228),\n",
       " (u'better', 216),\n",
       " (u'important', 206),\n",
       " (u'hard', 182),\n",
       " (u'best', 176),\n",
       " (u'new', 174),\n",
       " (u'able', 163),\n",
       " (u'excellent', 155),\n",
       " (u'overall', 143)]"
      ]
     },
     "execution_count": 62,
     "metadata": {},
     "output_type": "execute_result"
    }
   ],
   "source": [
    "Top_Neg_Adj = (negativeadjrdd.flatMap(lambda l: l).flatMap(lambda word: word)\n",
    "               .map(lambda w: (w, 1))\n",
    "               .reduceByKey(lambda x, y: x + y)\n",
    "               .collect())\n",
    "Sorted_Neg_Adj = sorted(Top_Neg_Adj, key=lambda tup: tup[1], reverse=True)\n",
    "Sorted_Neg_Adj[:20]"
   ]
  },
  {
   "cell_type": "code",
   "execution_count": 63,
   "metadata": {
    "collapsed": false
   },
   "outputs": [
    {
     "data": {
      "text/plain": [
       "[(u'great', 1368),\n",
       " (u'interesting', 780),\n",
       " (u'good', 523),\n",
       " (u'interested', 452),\n",
       " (u'difficult', 316),\n",
       " (u'amazing', 277),\n",
       " (u'best', 273),\n",
       " (u'final', 216),\n",
       " (u'different', 213),\n",
       " (u'wonderful', 201),\n",
       " (u'easy', 194),\n",
       " (u'sure', 193),\n",
       " (u'excellent', 190),\n",
       " (u'new', 186),\n",
       " (u'able', 171),\n",
       " (u'useful', 170),\n",
       " (u'important', 165),\n",
       " (u'helpful', 164),\n",
       " (u'willing', 160),\n",
       " (u'little', 158)]"
      ]
     },
     "execution_count": 63,
     "metadata": {},
     "output_type": "execute_result"
    }
   ],
   "source": [
    "Top_Pos_Adj = (positiveadjrdd.flatMap(lambda l: l).flatMap(lambda word: word)\n",
    "               .map(lambda w: (w, 1))\n",
    "               .reduceByKey(lambda x, y: x + y)\n",
    "               .collect())\n",
    "Sorted_Pos_Adj = sorted(Top_Pos_Adj, key=lambda tup: tup[1], reverse=True)\n",
    "Sorted_Pos_Adj[:20]"
   ]
  }
 ],
 "metadata": {
  "kernelspec": {
   "display_name": "Python 2",
   "language": "python",
   "name": "python2"
  },
  "language_info": {
   "codemirror_mode": {
    "name": "ipython",
    "version": 2
   },
   "file_extension": ".py",
   "mimetype": "text/x-python",
   "name": "python",
   "nbconvert_exporter": "python",
   "pygments_lexer": "ipython2",
   "version": "2.7.10"
  }
 },
 "nbformat": 4,
 "nbformat_minor": 0
}
