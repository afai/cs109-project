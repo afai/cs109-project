{
 "cells": [
  {
   "cell_type": "markdown",
   "metadata": {},
   "source": [
    "# TITLE"
   ]
  },
  {
   "cell_type": "markdown",
   "metadata": {},
   "source": [
    "(some sort of image)"
   ]
  },
  {
   "cell_type": "code",
   "execution_count": 1,
   "metadata": {
    "collapsed": true
   },
   "outputs": [],
   "source": [
    "%matplotlib inline\n",
    "import numpy as np\n",
    "import scipy as sp\n",
    "import matplotlib as mpl\n",
    "import matplotlib.cm as cm\n",
    "import matplotlib.pyplot as plt\n",
    "import pandas as pd\n",
    "pd.set_option('display.width', 500)\n",
    "pd.set_option('display.max_columns', 100)\n",
    "pd.set_option('display.notebook_repr_html', True)\n",
    "import seaborn as sns\n",
    "sns.set_style(\"whitegrid\")\n",
    "sns.set_context(\"poster\")"
   ]
  },
  {
   "cell_type": "markdown",
   "metadata": {},
   "source": [
    "## Abstract"
   ]
  },
  {
   "cell_type": "markdown",
   "metadata": {},
   "source": [
    "Text"
   ]
  },
  {
   "cell_type": "markdown",
   "metadata": {},
   "source": [
    "##  Table of Contents\n",
    "\n",
    "* [Part 1: Creating the Data Set](#Part-1:-Creating-the-Data-Set)\n",
    "    * [Part 1: Creating the Data Set](#Part-1:-Creating-the-Data-Set)\n",
    "* [Part 1: Creating the Data Set](#Part-1:-Creating-the-Data-Set)\n",
    "    * [Part 1: Creating the Data Set](#Part-1:-Creating-the-Data-Set)\n",
    "* [Part 1: Creating the Data Set](#Part-1:-Creating-the-Data-Set)\n",
    "    * [Part 1: Creating the Data Set](#Part-1:-Creating-the-Data-Set)"
   ]
  },
  {
   "cell_type": "markdown",
   "metadata": {},
   "source": [
    "## Part 1: Creating the Data Set"
   ]
  },
  {
   "cell_type": "markdown",
   "metadata": {},
   "source": [
    "### Concatenating the Data Files"
   ]
  },
  {
   "cell_type": "markdown",
   "metadata": {},
   "source": [
    "The Q data we received consisted of about 2300 JSON files, each one representing a unique course's historical Q scores for each available semester. Out first task was to combine these individual JSON files into a single JSON Lines file; the JSON files were stored locally outside of the repository directory, and we used the `shututil` and `glob`, and libraries to concatenate these into `qall.jsonl`."
   ]
  },
  {
   "cell_type": "code",
   "execution_count": 2,
   "metadata": {
    "collapsed": false
   },
   "outputs": [],
   "source": [
    "import shutil\n",
    "import glob\n",
    "\n",
    "# Opens the JSONL file as output.\n",
    "with open(\"qall.jsonl\", \"wb\") as outfile:\n",
    "    \n",
    "    # Iterates over the JSON files.\n",
    "    for filename in glob.glob(\"../Q/*.json\"):\n",
    "        \n",
    "        # Opens the current JSON file as input.\n",
    "        with open(filename, \"rb\") as readfile:\n",
    "            \n",
    "            # Copies the JSON file to the JSONL file.\n",
    "            shutil.copyfileobj(readfile, outfile)\n",
    "            \n",
    "            # Adds a new line as a delimiter.\n",
    "            outfile.write(\"\\n\")"
   ]
  },
  {
   "cell_type": "markdown",
   "metadata": {},
   "source": [
    "### Loading the Data"
   ]
  },
  {
   "cell_type": "markdown",
   "metadata": {},
   "source": [
    "Each JSON file was structured using multiple nested dictionaries, with the following format:\n",
    "\n",
    "* `scores`: a dictionary of mostly numerical data, separated by semester\n",
    "    * `*semester*`: a dictionary of course and instructor scores\n",
    "        * `course_score`: a dictionary of course info, ratings, and rating breakdowns\n",
    "            * `overall`: a float of mean overall rating\n",
    "            * `workload`: a float of mean workload rating\n",
    "            * `difficulty`: a float of mean difficulty rating\n",
    "            * `recommendation`: a float of mean recommendation rating\n",
    "            * `enrollment`: an integer of class enrollment\n",
    "            * `reponse rate`: a float of the proportion of students who reviewed the course\n",
    "            * `QCourseOverall`: \n",
    "                * `number`: the string concatenation of department and course number, i.e. \"COMPSCI 109\"\n",
    "                * `course_id`: an integer identifier for my.harvard.edu\n",
    "                * `cat_num`: an integer indentifier for the Harvard Course Catalog\n",
    "                * `1s`: an integer count of reviews with rating 1 for this category\n",
    "                * `2s`: analagous, with 2s\n",
    "                * `3s`: analagous, with 3s\n",
    "                * `4s`: analagous, with 4s\n",
    "                * `5s`: analagous, with 5s\n",
    "            * `QDifficulty`: analagous to `QCourseOverall`, with difficulty ratings.\n",
    "            * `QWorkload`: analagous to `QCourseOverall`, with workload ratings.\n",
    "        * `instructor_scores`: a list of length 1 that contains a dictionary of instructor info and ratings\n",
    "            * `number`: identical to that within `QCourseOverall`\n",
    "            * `cat_num`: identical to that within `QCourseOverall`\n",
    "            * `course_id`: identical to that within `QCourseOverall`\n",
    "            * `year`: an int of the first of the two years represented in the given school year\n",
    "            * `term`: an int with value 1 if the course took place in the Fall, 2 if Spring\n",
    "            * `id`: a string indentifier of the professor\n",
    "            * `first`: a string of the first name of the professor\n",
    "            * `last`: a string of the last name\n",
    "            * `InstructorOverall`: a float of mean overall instructor rating\n",
    "            * `EffectiveLecturesorPresentations`: a float of mean lecture rating\n",
    "            * `AccessibleOutsideClass`: a float of mean accessibility rating\n",
    "            * `GeneratesEnthusiasm`: a float of mean enthusiasm rating\n",
    "            * `FacilitatesDiscussionEncouragesParticipation`: a float of mean facilitation rating\n",
    "            * `GivesUsefulFeedback`: a float of mean feedback rating\n",
    "            * `ReturnsAssignmentsinTimelyFashion`: a float of mean timeliness rating\n",
    "* `comments`: a dictionary of textual reviews, separated by semester into dictionaries\n",
    "    * `*semester*`: a dictionary of comments for the given semester\n",
    "        * `comments`: a list of strings that represent comments\n",
    "* `mostRecentQ`: identical to the most recent semester data in `scores`\n",
    "* `success`: indicates if the JSON was successfully retrieved\n",
    "\n",
    "Any mean rating has range 1.0-5.0, and response rate has a range 0.0-1.0. The entries labeled `*semester*` can occur any number of times and have as a key the semester in which it took place (i.e. \"Fall '12\").\n",
    "\n",
    "Some caveats of the data include..."
   ]
  },
  {
   "cell_type": "code",
   "execution_count": null,
   "metadata": {
    "collapsed": false
   },
   "outputs": [],
   "source": [
    "import json\n",
    "\n",
    "# Creates the dataframe with columns specified.\n",
    "bigdf = pd.DataFrame(columns=[\"C_Department\",\"C_Number\", \"Course\", \"C_CatNum\",\"C_ID\",\"C_Semester\",\"C_Year\",\"C_Term\",\n",
    "                              \"C_Overall\",\"C_Workload\",\"C_Difficulty\",\"C_Recommendation\",\"C_Enrollment\",\"C_ResponseRate\",\n",
    "                              \"I_First\",\"I_Last\",\"I_ID\",\n",
    "                              \"I_Overall\",\"I_EffectiveLectures\",\"I_Accessible\",\"I_GeneratesEnthusiasm\",\n",
    "                              \"I_EncouragesParticipation\",\"I_UsefulFeedback\",\"I_ReturnsAssignmentsTimely\",\n",
    "                              \"QOverall_1\",\"QOverall_2\",\"QOverall_3\",\"QOverall_4\",\"QOverall_5\",\n",
    "                              \"QDifficulty_1\",\"QDifficulty_2\",\"QDifficulty_3\",\"QDifficulty_4\",\"QDifficulty_5\",\n",
    "                              \"QWorkload_1\",\"QWorkload_2\",\"QWorkload_3\",\"QWorkload_4\",\"QWorkload_5\",\n",
    "                              \"Comments\"])\n",
    "\n",
    "# Opens the JSONL file as the input.\n",
    "with open(\"qall.jsonl\") as data_file:\n",
    "\n",
    "    # Iterates over each line.\n",
    "    for line in data_file:\n",
    "\n",
    "        # Loads the JSON.\n",
    "        alldata = json.loads(line)\n",
    "\n",
    "        # Iterates over each semester for the course.\n",
    "        for semester in alldata[\"scores\"]:\n",
    "\n",
    "            # Retrieves the semester data.\n",
    "            semdata = alldata[\"scores\"][semester]\n",
    "\n",
    "            # Retrieves the scores or comments if they exist, else None.\n",
    "            cscores = semdata[\"course_score\"] if \"course_score\" in semdata else None\n",
    "            iscores = semdata[\"instructor_scores\"][0] if \"instructor_scores\" in semdata else None\n",
    "            comments = alldata[\"comments\"][semester][\"comments\"] if semester in alldata[\"comments\"] else None\n",
    "\n",
    "            # Creates a dictionary that will be appended as a row to the dataframe.\n",
    "            semdatadict = {\"C_Semester\": semester, \"Comments\": comments}\n",
    "\n",
    "            # If the course scores exist...\n",
    "            if cscores != None:\n",
    "                \n",
    "                # Retrieves the course name and separates it into department and number.\n",
    "                course = str(cscores[\"QCourseOverall\"][\"number\"]).split()\n",
    "                if course[0] == \"None\":\n",
    "                    course = [None, None]\n",
    "                    fullCourseName = \"NODEPT-NOCOURSENUMBER\"\n",
    "                else:\n",
    "                    fullCourseName = course[0] + \"-\" + course[1]\n",
    "                    \n",
    "                # Updates the dictionary with the data.\n",
    "                semdatadict.update({\"C_Department\": course[0],\n",
    "                                    \"C_Number\": course[1],\n",
    "                                    \"Course\": fullCourseName,\n",
    "                                    \"C_CatNum\": cscores[\"QCourseOverall\"][\"cat_num\"],\n",
    "                                    \"C_ID\": cscores[\"QCourseOverall\"][\"course_id\"],\n",
    "                                    \"C_Overall\": cscores[\"overall\"],\n",
    "                                    \"C_Workload\": cscores[\"workload\"],\n",
    "                                    \"C_Difficulty\": cscores[\"difficulty\"],\n",
    "                                    \"C_Recommendation\": cscores[\"recommendation\"],\n",
    "                                    \"C_Enrollment\": cscores[\"enrollment\"],\n",
    "                                    \"C_ResponseRate\": cscores[\"response rate\"],\n",
    "                                    \"QOverall_1\": cscores[\"QCourseOverall\"][\"1s\"],\n",
    "                                    \"QOverall_2\": cscores[\"QCourseOverall\"][\"2s\"],\n",
    "                                    \"QOverall_3\": cscores[\"QCourseOverall\"][\"3s\"],\n",
    "                                    \"QOverall_4\": cscores[\"QCourseOverall\"][\"4s\"],\n",
    "                                    \"QOverall_5\": cscores[\"QCourseOverall\"][\"5s\"],\n",
    "                                    \"QDifficulty_1\": cscores[\"QDifficulty\"][\"1s\"],\n",
    "                                    \"QDifficulty_2\": cscores[\"QDifficulty\"][\"2s\"],\n",
    "                                    \"QDifficulty_3\": cscores[\"QDifficulty\"][\"3s\"],\n",
    "                                    \"QDifficulty_4\": cscores[\"QDifficulty\"][\"4s\"],\n",
    "                                    \"QDifficulty_5\": cscores[\"QDifficulty\"][\"5s\"],\n",
    "                                    \"QWorkload_1\": cscores[\"QWorkload\"][\"1s\"],\n",
    "                                    \"QWorkload_2\": cscores[\"QWorkload\"][\"2s\"],\n",
    "                                    \"QWorkload_3\": cscores[\"QWorkload\"][\"3s\"],\n",
    "                                    \"QWorkload_4\": cscores[\"QWorkload\"][\"4s\"],\n",
    "                                    \"QWorkload_5\": cscores[\"QWorkload\"][\"5s\"],})\n",
    "\n",
    "            # If the instructor scores exist...\n",
    "            if iscores != None:\n",
    "\n",
    "                # Retrieves the course name and separates it into department and number.\n",
    "                course = str(iscores[\"number\"]).split()\n",
    "                if course[0] == \"None\":\n",
    "                    course = [None, None]\n",
    "                    fullCourseName = \"NODEPT-NOCOURSENUMBER\"\n",
    "                else:\n",
    "                    fullCourseName = course[0] + \"-\" + course[1]\n",
    "\n",
    "                # Updates the dictionary with the data.\n",
    "                semdatadict.update({\"C_Department\": course[0],\n",
    "                                    \"C_Number\": course[1],\n",
    "                                    \"Course\": fullCourseName,\n",
    "                                    \"C_CatNum\": iscores[\"cat_num\"],\n",
    "                                    \"C_ID\": iscores[\"course_id\"],\n",
    "                                    \"C_Year\": iscores[\"year\"],\n",
    "                                    \"C_Term\": iscores[\"term\"],\n",
    "                                    \"I_First\": iscores[\"first\"].strip(),\n",
    "                                    \"I_Last\": iscores[\"last\"].strip(),\n",
    "                                    \"I_ID\": iscores[\"id\"],\n",
    "                                    \"I_Overall\": iscores[\"InstructorOverall\"],\n",
    "                                    \"I_EffectiveLectures\": iscores[\"EffectiveLecturesorPresentations\"],\n",
    "                                    \"I_Accessible\": iscores[\"AccessibleOutsideClass\"],\n",
    "                                    \"I_GeneratesEnthusiasm\": iscores[\"GeneratesEnthusiasm\"],\n",
    "                                    \"I_EncouragesParticipation\": iscores[\"FacilitatesDiscussionEncouragesParticipation\"],\n",
    "                                    \"I_UsefulFeedback\": iscores[\"GivesUsefulFeedback\"],\n",
    "                                    \"I_ReturnsAssignmentsTimely\": iscores[\"ReturnsAssignmentsinTimelyFashion\"]})\n",
    "\n",
    "            # Adds the dictionary as a row to the dataframe.\n",
    "            bigdf = bigdf.append(semdatadict, ignore_index=True)"
   ]
  },
  {
   "cell_type": "code",
   "execution_count": null,
   "metadata": {
    "collapsed": false,
    "scrolled": false
   },
   "outputs": [],
   "source": [
    "bigdf.head(5)"
   ]
  },
  {
   "cell_type": "code",
   "execution_count": null,
   "metadata": {
    "collapsed": false
   },
   "outputs": [],
   "source": [
    "for index, row in bigdf.iterrows():\n",
    "\n",
    "    year = int(row[\"C_Semester\"][-2:])\n",
    "\n",
    "    if row[\"C_Semester\"][0:4] == \"Fall\":\n",
    "        row[\"C_Term\"] = 1\n",
    "        row[\"C_Year\"] = 2000 + year\n",
    "    elif row[\"C_Semester\"][0:6] == \"Spring\":\n",
    "        row[\"C_Term\"] = 2\n",
    "        row[\"C_Year\"] = 1999 + year\n",
    "    else:\n",
    "        continue"
   ]
  },
  {
   "cell_type": "code",
   "execution_count": null,
   "metadata": {
    "collapsed": false
   },
   "outputs": [],
   "source": [
    "print bigdf[bigdf[\"C_Department\"]!=bigdf[\"C_Department\"]].shape[0]\n",
    "print bigdf[bigdf[\"C_Department\"]==None].shape[0]"
   ]
  },
  {
   "cell_type": "code",
   "execution_count": null,
   "metadata": {
    "collapsed": false,
    "scrolled": true
   },
   "outputs": [],
   "source": [
    "bigdf = bigdf[bigdf[\"C_Department\"]==bigdf[\"C_Department\"]]"
   ]
  },
  {
   "cell_type": "code",
   "execution_count": null,
   "metadata": {
    "collapsed": false
   },
   "outputs": [],
   "source": [
    "bigdf = bigdf.replace({\"C_CatNum\": {\"\": None}})"
   ]
  },
  {
   "cell_type": "code",
   "execution_count": null,
   "metadata": {
    "collapsed": true
   },
   "outputs": [],
   "source": [
    "coltypes = {int: [\"C_CatNum\",\"C_ID\",\"C_Year\",\"C_Term\",\"C_Enrollment\",\n",
    "                  \"QOverall_1\",\"QOverall_2\",\"QOverall_3\",\"QOverall_4\",\"QOverall_5\",\n",
    "                  \"QDifficulty_1\",\"QDifficulty_2\",\"QDifficulty_3\",\"QDifficulty_4\",\"QDifficulty_5\",\n",
    "                  \"QWorkload_1\",\"QWorkload_2\",\"QWorkload_3\",\"QWorkload_4\",\"QWorkload_5\"],\n",
    "            float: [\"C_Overall\",\"C_Workload\",\"C_Difficulty\",\"C_Recommendation\",\"C_ResponseRate\",\n",
    "                    \"I_Overall\",\"I_EffectiveLectures\",\"I_Accessible\",\"I_GeneratesEnthusiasm\",\n",
    "                    \"I_EncouragesParticipation\",\"I_UsefulFeedback\",\"I_ReturnsAssignmentsTimely\",\n",
    "                    \"QOverall_1\",\"QOverall_2\",\"QOverall_3\",\"QOverall_4\",\"QOverall_5\"],\n",
    "            str: [\"C_Number\",\"C_Department\",\"C_Semester\",\"I_First\",\"I_Last\",\"I_ID\"]}"
   ]
  },
  {
   "cell_type": "code",
   "execution_count": null,
   "metadata": {
    "collapsed": false
   },
   "outputs": [],
   "source": [
    "from unidecode import unidecode\n",
    "\n",
    "for index, row in bigdf.iterrows():\n",
    "    for strcol in coltypes[str]:\n",
    "        try:\n",
    "            str(row[strcol])\n",
    "        except UnicodeEncodeError:\n",
    "            bigdf.loc[index, row[row.values==row[strcol]].index[0]] = unidecode(row[strcol])"
   ]
  },
  {
   "cell_type": "code",
   "execution_count": null,
   "metadata": {
    "collapsed": true
   },
   "outputs": [],
   "source": [
    "for intcol in coltypes[int]:\n",
    "    bigdf = bigdf.replace({intcol: {None: -1}})\n",
    "\n",
    "for floatcol in coltypes[float]:\n",
    "    bigdf = bigdf.replace({floatcol: {None: np.nan}})"
   ]
  },
  {
   "cell_type": "code",
   "execution_count": null,
   "metadata": {
    "collapsed": false,
    "scrolled": false
   },
   "outputs": [],
   "source": [
    "for ctp in coltypes:\n",
    "    for col in coltypes[ctp]:\n",
    "        bigdf[col] = bigdf[col].astype(ctp)"
   ]
  },
  {
   "cell_type": "code",
   "execution_count": null,
   "metadata": {
    "collapsed": false,
    "scrolled": true
   },
   "outputs": [],
   "source": [
    "# for index, comments in bigdf[\"Comments\"].iteritems():\n",
    "#     if comments != None:\n",
    "#         bigdf[\"Comments\"].loc[index] = [unidecode(c) for c in comments]"
   ]
  },
  {
   "cell_type": "code",
   "execution_count": null,
   "metadata": {
    "collapsed": false
   },
   "outputs": [],
   "source": [
    "bigdf[\"Sem_Average\"] = pd.Series(index=bigdf.index)"
   ]
  },
  {
   "cell_type": "code",
   "execution_count": null,
   "metadata": {
    "collapsed": false,
    "scrolled": true
   },
   "outputs": [],
   "source": [
    "for name, group in bigdf.groupby([\"C_Year\", \"C_Term\"]):\n",
    "    bigdf.loc[(bigdf[\"C_Year\"]==name[0])&(bigdf[\"C_Term\"]==name[1]), \"Sem_Average\"] = np.nanmean(group[\"C_Overall\"].values)"
   ]
  },
  {
   "cell_type": "code",
   "execution_count": null,
   "metadata": {
    "collapsed": false
   },
   "outputs": [],
   "source": [
    "bigdf[\"Positive\"] = pd.Series(bigdf[\"C_Overall\"]>=bigdf[\"Sem_Average\"], index=bigdf.index)"
   ]
  },
  {
   "cell_type": "code",
   "execution_count": null,
   "metadata": {
    "collapsed": true
   },
   "outputs": [],
   "source": [
    "backupdf = bigdf.copy()\n",
    "bigdf = backupdf.copy()"
   ]
  },
  {
   "cell_type": "code",
   "execution_count": null,
   "metadata": {
    "collapsed": false,
    "scrolled": false
   },
   "outputs": [],
   "source": [
    "bigdf.head(5)"
   ]
  },
  {
   "cell_type": "code",
   "execution_count": null,
   "metadata": {
    "collapsed": false
   },
   "outputs": [],
   "source": [
    "bigdf.to_csv(\"bigdf.csv\", index=False)"
   ]
  },
  {
   "cell_type": "code",
   "execution_count": null,
   "metadata": {
    "collapsed": true
   },
   "outputs": [],
   "source": []
  },
  {
   "cell_type": "code",
   "execution_count": null,
   "metadata": {
    "collapsed": true
   },
   "outputs": [],
   "source": []
  },
  {
   "cell_type": "code",
   "execution_count": null,
   "metadata": {
    "collapsed": true
   },
   "outputs": [],
   "source": []
  }
 ],
 "metadata": {
  "kernelspec": {
   "display_name": "Python 2",
   "language": "python",
   "name": "python2"
  },
  "language_info": {
   "codemirror_mode": {
    "name": "ipython",
    "version": 2
   },
   "file_extension": ".py",
   "mimetype": "text/x-python",
   "name": "python",
   "nbconvert_exporter": "python",
   "pygments_lexer": "ipython2",
   "version": "2.7.10"
  }
 },
 "nbformat": 4,
 "nbformat_minor": 0
}
